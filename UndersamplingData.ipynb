{
 "cells": [
  {
   "cell_type": "code",
   "execution_count": 1,
   "id": "a2a764a8-3322-44c7-bcca-82ee4d5d892b",
   "metadata": {
    "tags": []
   },
   "outputs": [],
   "source": [
    "import pandas as pd\n",
    "from sklearn import datasets\n",
    "from sklearn.model_selection import train_test_split\n",
    "from sklearn.metrics import accuracy_score\n",
    "from sklearn.neural_network import MLPClassifier\n",
    "from sklearn.model_selection import cross_val_score\n",
    "from sklearn import preprocessing\n",
    "import seaborn as sns\n",
    "from random import sample "
   ]
  },
  {
   "cell_type": "code",
   "execution_count": 2,
   "id": "7d328a1d-7020-4ffd-8418-a1a0d5762bed",
   "metadata": {
    "tags": []
   },
   "outputs": [
    {
     "data": {
      "text/html": [
       "<div>\n",
       "<style scoped>\n",
       "    .dataframe tbody tr th:only-of-type {\n",
       "        vertical-align: middle;\n",
       "    }\n",
       "\n",
       "    .dataframe tbody tr th {\n",
       "        vertical-align: top;\n",
       "    }\n",
       "\n",
       "    .dataframe thead th {\n",
       "        text-align: right;\n",
       "    }\n",
       "</style>\n",
       "<table border=\"1\" class=\"dataframe\">\n",
       "  <thead>\n",
       "    <tr style=\"text-align: right;\">\n",
       "      <th></th>\n",
       "      <th>Killnumber</th>\n",
       "      <th>KillDate</th>\n",
       "      <th>AnimalType</th>\n",
       "      <th>Class</th>\n",
       "      <th>Fat</th>\n",
       "      <th>Weight</th>\n",
       "      <th>WeightWarm</th>\n",
       "      <th>ClassificationTime</th>\n",
       "      <th>AgeMonths</th>\n",
       "      <th>Remark</th>\n",
       "      <th>PartCassation</th>\n",
       "      <th>Group</th>\n",
       "    </tr>\n",
       "  </thead>\n",
       "  <tbody>\n",
       "    <tr>\n",
       "      <th>0</th>\n",
       "      <td>21508</td>\n",
       "      <td>2020-11-15</td>\n",
       "      <td>222</td>\n",
       "      <td>6</td>\n",
       "      <td>6</td>\n",
       "      <td>354.555</td>\n",
       "      <td>361.791</td>\n",
       "      <td>2020-11-15 16:20:20.827000000</td>\n",
       "      <td>18</td>\n",
       "      <td>457\\n590</td>\n",
       "      <td>NaN</td>\n",
       "      <td>10</td>\n",
       "    </tr>\n",
       "    <tr>\n",
       "      <th>1</th>\n",
       "      <td>21508</td>\n",
       "      <td>2021-02-01</td>\n",
       "      <td>216</td>\n",
       "      <td>4</td>\n",
       "      <td>6</td>\n",
       "      <td>249.636</td>\n",
       "      <td>254.701</td>\n",
       "      <td>2021-02-01 13:57:25</td>\n",
       "      <td>17</td>\n",
       "      <td>77\\n338\\n590\\n814</td>\n",
       "      <td>NaN</td>\n",
       "      <td>6</td>\n",
       "    </tr>\n",
       "    <tr>\n",
       "      <th>2</th>\n",
       "      <td>21508</td>\n",
       "      <td>2021-04-17</td>\n",
       "      <td>222</td>\n",
       "      <td>8</td>\n",
       "      <td>4</td>\n",
       "      <td>323.338</td>\n",
       "      <td>329.954</td>\n",
       "      <td>2021-04-17 13:40:16.800000000</td>\n",
       "      <td>13</td>\n",
       "      <td>466</td>\n",
       "      <td>NaN</td>\n",
       "      <td>1</td>\n",
       "    </tr>\n",
       "    <tr>\n",
       "      <th>3</th>\n",
       "      <td>21508</td>\n",
       "      <td>2021-07-03</td>\n",
       "      <td>216</td>\n",
       "      <td>8</td>\n",
       "      <td>8</td>\n",
       "      <td>322.925</td>\n",
       "      <td>329.540</td>\n",
       "      <td>2021-07-03 16:04:26.010000000</td>\n",
       "      <td>24</td>\n",
       "      <td>339\\n387\\n588\\n703</td>\n",
       "      <td>NaN</td>\n",
       "      <td>3</td>\n",
       "    </tr>\n",
       "    <tr>\n",
       "      <th>4</th>\n",
       "      <td>21508</td>\n",
       "      <td>2021-09-05</td>\n",
       "      <td>219</td>\n",
       "      <td>5</td>\n",
       "      <td>7</td>\n",
       "      <td>324.372</td>\n",
       "      <td>330.987</td>\n",
       "      <td>2021-09-05 15:43:20.243000000</td>\n",
       "      <td>17</td>\n",
       "      <td>339\\n590</td>\n",
       "      <td>NaN</td>\n",
       "      <td>2</td>\n",
       "    </tr>\n",
       "    <tr>\n",
       "      <th>...</th>\n",
       "      <td>...</td>\n",
       "      <td>...</td>\n",
       "      <td>...</td>\n",
       "      <td>...</td>\n",
       "      <td>...</td>\n",
       "      <td>...</td>\n",
       "      <td>...</td>\n",
       "      <td>...</td>\n",
       "      <td>...</td>\n",
       "      <td>...</td>\n",
       "      <td>...</td>\n",
       "      <td>...</td>\n",
       "    </tr>\n",
       "    <tr>\n",
       "      <th>74544</th>\n",
       "      <td>21507</td>\n",
       "      <td>2021-04-17</td>\n",
       "      <td>222</td>\n",
       "      <td>8</td>\n",
       "      <td>5</td>\n",
       "      <td>253.254</td>\n",
       "      <td>258.422</td>\n",
       "      <td>2021-04-17 13:39:05.800000000</td>\n",
       "      <td>13</td>\n",
       "      <td>117\\n466</td>\n",
       "      <td>NaN</td>\n",
       "      <td>1</td>\n",
       "    </tr>\n",
       "    <tr>\n",
       "      <th>74545</th>\n",
       "      <td>21507</td>\n",
       "      <td>2021-11-09</td>\n",
       "      <td>224</td>\n",
       "      <td>7</td>\n",
       "      <td>6</td>\n",
       "      <td>357.553</td>\n",
       "      <td>364.892</td>\n",
       "      <td>2021-11-09 13:41:08.383000000</td>\n",
       "      <td>29</td>\n",
       "      <td>113\\n589</td>\n",
       "      <td>NaN</td>\n",
       "      <td>0</td>\n",
       "    </tr>\n",
       "    <tr>\n",
       "      <th>74546</th>\n",
       "      <td>21508</td>\n",
       "      <td>2020-03-21</td>\n",
       "      <td>218</td>\n",
       "      <td>3</td>\n",
       "      <td>2</td>\n",
       "      <td>263.798</td>\n",
       "      <td>269.173</td>\n",
       "      <td>2020-03-21 12:00:55</td>\n",
       "      <td>41</td>\n",
       "      <td>77\\n338\\n589</td>\n",
       "      <td>NaN</td>\n",
       "      <td>5</td>\n",
       "    </tr>\n",
       "    <tr>\n",
       "      <th>74547</th>\n",
       "      <td>21508</td>\n",
       "      <td>2020-06-17</td>\n",
       "      <td>216</td>\n",
       "      <td>5</td>\n",
       "      <td>8</td>\n",
       "      <td>238.472</td>\n",
       "      <td>243.330</td>\n",
       "      <td>2020-06-17 13:33:05</td>\n",
       "      <td>25</td>\n",
       "      <td>339\\n590</td>\n",
       "      <td>NaN</td>\n",
       "      <td>6</td>\n",
       "    </tr>\n",
       "    <tr>\n",
       "      <th>74548</th>\n",
       "      <td>21508</td>\n",
       "      <td>2020-09-06</td>\n",
       "      <td>219</td>\n",
       "      <td>7</td>\n",
       "      <td>9</td>\n",
       "      <td>376.470</td>\n",
       "      <td>384.119</td>\n",
       "      <td>2020-09-06 12:37:19</td>\n",
       "      <td>20</td>\n",
       "      <td>340\\n589</td>\n",
       "      <td>NaN</td>\n",
       "      <td>0</td>\n",
       "    </tr>\n",
       "  </tbody>\n",
       "</table>\n",
       "<p>74549 rows × 12 columns</p>\n",
       "</div>"
      ],
      "text/plain": [
       "       Killnumber    KillDate  AnimalType  Class  Fat   Weight  WeightWarm  \\\n",
       "0           21508  2020-11-15         222      6    6  354.555     361.791   \n",
       "1           21508  2021-02-01         216      4    6  249.636     254.701   \n",
       "2           21508  2021-04-17         222      8    4  323.338     329.954   \n",
       "3           21508  2021-07-03         216      8    8  322.925     329.540   \n",
       "4           21508  2021-09-05         219      5    7  324.372     330.987   \n",
       "...           ...         ...         ...    ...  ...      ...         ...   \n",
       "74544       21507  2021-04-17         222      8    5  253.254     258.422   \n",
       "74545       21507  2021-11-09         224      7    6  357.553     364.892   \n",
       "74546       21508  2020-03-21         218      3    2  263.798     269.173   \n",
       "74547       21508  2020-06-17         216      5    8  238.472     243.330   \n",
       "74548       21508  2020-09-06         219      7    9  376.470     384.119   \n",
       "\n",
       "                  ClassificationTime  AgeMonths              Remark  \\\n",
       "0      2020-11-15 16:20:20.827000000         18            457\\n590   \n",
       "1                2021-02-01 13:57:25         17   77\\n338\\n590\\n814   \n",
       "2      2021-04-17 13:40:16.800000000         13                 466   \n",
       "3      2021-07-03 16:04:26.010000000         24  339\\n387\\n588\\n703   \n",
       "4      2021-09-05 15:43:20.243000000         17            339\\n590   \n",
       "...                              ...        ...                 ...   \n",
       "74544  2021-04-17 13:39:05.800000000         13            117\\n466   \n",
       "74545  2021-11-09 13:41:08.383000000         29            113\\n589   \n",
       "74546            2020-03-21 12:00:55         41        77\\n338\\n589   \n",
       "74547            2020-06-17 13:33:05         25            339\\n590   \n",
       "74548            2020-09-06 12:37:19         20            340\\n589   \n",
       "\n",
       "       PartCassation  Group  \n",
       "0                NaN     10  \n",
       "1                NaN      6  \n",
       "2                NaN      1  \n",
       "3                NaN      3  \n",
       "4                NaN      2  \n",
       "...              ...    ...  \n",
       "74544            NaN      1  \n",
       "74545            NaN      0  \n",
       "74546            NaN      5  \n",
       "74547            NaN      6  \n",
       "74548            NaN      0  \n",
       "\n",
       "[74549 rows x 12 columns]"
      ]
     },
     "execution_count": 2,
     "metadata": {},
     "output_type": "execute_result"
    }
   ],
   "source": [
    "carcass_df = pd.read_csv('DataWithLabels.csv')\n",
    "carcass_df"
   ]
  },
  {
   "cell_type": "code",
   "execution_count": 3,
   "id": "d14ca925-e517-4da5-b4d6-2bb5b2bc280d",
   "metadata": {
    "tags": []
   },
   "outputs": [],
   "source": [
    "palette = [\"#a6cee3\", \"#1f78b4\", \"#b2df8a\", \"#33a02c\", \"#fb9a99\", \"#fdbf6f\", \"#ff00ff\", \"#ff7f00\", \"#cab2d6\", \"#6a3d9a\", \"#ffff99\", \"#b15928\"]"
   ]
  },
  {
   "cell_type": "code",
   "execution_count": 4,
   "id": "a9687338-3e91-4956-925f-922ac743f7a5",
   "metadata": {
    "tags": []
   },
   "outputs": [
    {
     "name": "stdout",
     "output_type": "stream",
     "text": [
      "Group\n",
      "7     10881\n",
      "3      9870\n",
      "8      7435\n",
      "1      6859\n",
      "6      6499\n",
      "10     6014\n",
      "0      5907\n",
      "5      5700\n",
      "9      5682\n",
      "2      5410\n",
      "4      4292\n",
      "Name: count, dtype: int64\n"
     ]
    },
    {
     "data": {
      "image/png": "[encoded data removed]",
      "text/plain": [
       "<Figure size 640x480 with 1 Axes>"
      ]
     },
     "metadata": {},
     "output_type": "display_data"
    }
   ],
   "source": [
    "cluster_df = pd.DataFrame(carcass_df['Group'].value_counts())\n",
    "cluster_bar = sns.barplot(x=cluster_df.index, y=cluster_df['count'], palette=palette)\n",
    "print(carcass_df['Group'].value_counts())"
   ]
  },
  {
   "cell_type": "markdown",
   "id": "b01167a7-6e38-48c7-91e8-1925dabc0aaa",
   "metadata": {},
   "source": [
    "Method used for undersample data\n",
    "\n",
    "https://stackoverflow.com/a/70992495"
   ]
  },
  {
   "cell_type": "code",
   "execution_count": 5,
   "id": "520afb60-aa52-4e91-bf64-6e382fd14071",
   "metadata": {
    "tags": []
   },
   "outputs": [
    {
     "name": "stdout",
     "output_type": "stream",
     "text": [
      "Group\n",
      "0     4292\n",
      "1     4292\n",
      "2     4292\n",
      "3     4292\n",
      "4     4292\n",
      "5     4292\n",
      "6     4292\n",
      "7     4292\n",
      "8     4292\n",
      "9     4292\n",
      "10    4292\n",
      "Name: count, dtype: int64\n"
     ]
    }
   ],
   "source": [
    "min_group = carcass_df[\"Group\"].value_counts().min()\n",
    "carcass_df = carcass_df.groupby('Group').apply(\n",
    "    lambda x: x.sample(n=min(min_group, len(x))))\n",
    "print(carcass_df['Group'].value_counts())"
   ]
  },
  {
   "cell_type": "code",
   "execution_count": 6,
   "id": "06f2393e-1f24-4000-a4e1-b054b2e7bde1",
   "metadata": {
    "tags": []
   },
   "outputs": [
    {
     "data": {
      "image/png": "[encoded data removed]",
      "text/plain": [
       "<Figure size 640x480 with 1 Axes>"
      ]
     },
     "metadata": {},
     "output_type": "display_data"
    }
   ],
   "source": [
    "cluster_df = pd.DataFrame(carcass_df['Group'].value_counts())\n",
    "cluster_bar = sns.barplot(x=cluster_df.index, y=cluster_df['count'], palette=palette)"
   ]
  },
  {
   "cell_type": "code",
   "execution_count": 7,
   "id": "e207159f-4465-4b79-9c97-a6fcd3d7ee14",
   "metadata": {
    "tags": []
   },
   "outputs": [],
   "source": [
    "carcass_df.to_csv('UnderSampledDataSet.csv', index=False)"
   ]
  }
 ],
 "metadata": {
  "kernelspec": {
   "display_name": "Python 3 (ipykernel)",
   "language": "python",
   "name": "python3"
  },
  "language_info": {
   "codemirror_mode": {
    "name": "ipython",
    "version": 3
   },
   "file_extension": ".py",
   "mimetype": "text/x-python",
   "name": "python",
   "nbconvert_exporter": "python",
   "pygments_lexer": "ipython3",
   "version": "3.11.5"
  }
 },
 "nbformat": 4,
 "nbformat_minor": 5
}
