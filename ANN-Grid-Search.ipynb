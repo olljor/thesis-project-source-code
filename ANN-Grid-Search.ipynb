{
 "cells": [
  {
   "cell_type": "code",
   "execution_count": 1,
   "id": "cedccd94-f49f-4646-8766-994f654a50a9",
   "metadata": {
    "tags": []
   },
   "outputs": [],
   "source": [
    "import pandas as pd\n",
    "import numpy as np\n",
    "import functools as ft\n",
    "from sklearn.model_selection import train_test_split\n",
    "from sklearn.metrics import accuracy_score\n",
    "from sklearn.neural_network import MLPClassifier\n",
    "from sklearn.model_selection import cross_val_score\n",
    "from sklearn.metrics import classification_report\n",
    "from sklearn.model_selection import GridSearchCV\n",
    "from sklearn import preprocessing\n",
    "from sklearn.model_selection import cross_validate"
   ]
  },
  {
   "cell_type": "code",
   "execution_count": 2,
   "id": "8bd829c8-e157-4584-ba44-ec23d82c53e3",
   "metadata": {
    "tags": []
   },
   "outputs": [
    {
     "data": {
      "text/plain": [
       "(47212, 12)"
      ]
     },
     "execution_count": 2,
     "metadata": {},
     "output_type": "execute_result"
    }
   ],
   "source": [
    "# Fetching data\n",
    "carcass_df = pd.read_csv('UnderSampledDataSet.csv')\n",
    "carcass_df.shape"
   ]
  },
  {
   "cell_type": "code",
   "execution_count": 3,
   "id": "a71b2964-3094-4351-9f0b-bdae8dc1ca9a",
   "metadata": {
    "tags": []
   },
   "outputs": [
    {
     "data": {
      "text/plain": [
       "(18885, 12)"
      ]
     },
     "execution_count": 3,
     "metadata": {},
     "output_type": "execute_result"
    }
   ],
   "source": [
    "# Sample 40% of the dataset, \n",
    "# making it quicker to train \n",
    "# and especially to grid search parameters \n",
    "carcass_df = carcass_df.sample(frac=0.40)\n",
    "carcass_df.shape"
   ]
  },
  {
   "cell_type": "code",
   "execution_count": 4,
   "id": "0fad94d0-cc9d-49aa-a96a-2e5a0f1327f6",
   "metadata": {
    "tags": []
   },
   "outputs": [
    {
     "data": {
      "text/plain": [
       "AnimalType      int64\n",
       "Class           int64\n",
       "Fat             int64\n",
       "Weight        float64\n",
       "AgeMonths     float64\n",
       "Remark         object\n",
       "dtype: object"
      ]
     },
     "execution_count": 4,
     "metadata": {},
     "output_type": "execute_result"
    }
   ],
   "source": [
    "# Removing data not used in training models \n",
    "X = carcass_df.copy()\n",
    "X = X.drop(['Group', \n",
    "            'Killnumber', \n",
    "            'KillDate', \n",
    "            'WeightWarm', \n",
    "            'ClassificationTime', \n",
    "            'PartCassation'], axis=1)\n",
    "\n",
    "# Normalizing the numerical data \n",
    "X[['Weight', 'AgeMonths']] = preprocessing.normalize(\n",
    "    X[['Weight', 'AgeMonths']])\n",
    "X.dtypes"
   ]
  },
  {
   "cell_type": "code",
   "execution_count": 5,
   "id": "6c40470e-55e4-46dc-8a02-19b97ce61b18",
   "metadata": {
    "tags": []
   },
   "outputs": [
    {
     "data": {
      "text/plain": [
       "Weight                     float64\n",
       "AgeMonths                  float64\n",
       "(Remark, 113\\n589)            bool\n",
       "(Remark, 338\\n588)            bool\n",
       "(Remark, 338\\n589)            bool\n",
       "(Remark, 339\\n588)            bool\n",
       "(Remark, 339\\n589)            bool\n",
       "(Remark, 339\\n589\\n703)       bool\n",
       "(Remark, 339\\n590)            bool\n",
       "(Remark, 340\\n589)            bool\n",
       "(Remark, 588)                 bool\n",
       "(Remark, 589)                 bool\n",
       "(Remark, 590)                 bool\n",
       "(Remark, 77\\n589)             bool\n",
       "(Class, 4)                    bool\n",
       "(Class, 5)                    bool\n",
       "(Class, 6)                    bool\n",
       "(Class, 7)                    bool\n",
       "(Class, 8)                    bool\n",
       "(Class, 9)                    bool\n",
       "(Class, 10)                   bool\n",
       "(Class, 11)                   bool\n",
       "(Fat, 3)                      bool\n",
       "(Fat, 4)                      bool\n",
       "(Fat, 5)                      bool\n",
       "(Fat, 6)                      bool\n",
       "(Fat, 7)                      bool\n",
       "(Fat, 8)                      bool\n",
       "(Fat, 9)                      bool\n",
       "(Fat, 10)                     bool\n",
       "(AnimalType, 212)             bool\n",
       "(AnimalType, 216)             bool\n",
       "(AnimalType, 218)             bool\n",
       "(AnimalType, 219)             bool\n",
       "(AnimalType, 222)             bool\n",
       "(AnimalType, 224)             bool\n",
       "dtype: object"
      ]
     },
     "execution_count": 5,
     "metadata": {},
     "output_type": "execute_result"
    }
   ],
   "source": [
    "# One Hot Encoding for categorical data\n",
    "\n",
    "# Using One Hot Encoding to add the top ten remarks as binary features \n",
    "remark_sorted = X['Remark'].value_counts()\n",
    "top_remarks = []\n",
    "nr_of_remarks = 12\n",
    "for key in range(nr_of_remarks):\n",
    "    top_remarks.append(remark_sorted.keys()[key])\n",
    "    \n",
    "df_encoded = pd.get_dummies(X['Remark'], columns=['Remark'])\n",
    "for col in df_encoded.columns:\n",
    "    if col in top_remarks:\n",
    "        X['Remark',col] = df_encoded[col]\n",
    "\n",
    "X = X.drop(['Remark'], axis=1)\n",
    "\n",
    "# Using One Hot Encoding to add the top ten Classes as binary features \n",
    "class_sorted = X['Class'].value_counts()\n",
    "top_class = []\n",
    "nr_of_classes = 8\n",
    "for key in range(nr_of_classes):\n",
    "    top_class.append(class_sorted.keys()[key])\n",
    "        \n",
    "df_encoded = pd.get_dummies(X['Class'], columns=['Class'])\n",
    "for col in df_encoded.columns:\n",
    "    if col in top_class:\n",
    "        X['Class',col] = df_encoded[col]\n",
    "\n",
    "X = X.drop(['Class'], axis=1)\n",
    "\n",
    "# Using One Hot Encoding to add the top ten Fats as binary features \n",
    "fat_sorted = X['Fat'].value_counts()\n",
    "top_fat = []\n",
    "nr_of_fats = 8\n",
    "for key in range(nr_of_fats):\n",
    "    top_fat.append(fat_sorted.keys()[key])\n",
    "        \n",
    "df_encoded = pd.get_dummies(X['Fat'], columns=['Fat'])\n",
    "for col in df_encoded.columns:\n",
    "    if col in top_fat:\n",
    "        X['Fat',col] = df_encoded[col]\n",
    "\n",
    "X = X.drop(['Fat'], axis=1)\n",
    "\n",
    "# Using One Hot Encoding to add AnimalType as binary features \n",
    "df_encoded = pd.get_dummies(X['AnimalType'], columns=['AnimalType'])\n",
    "for col in df_encoded.columns:\n",
    "    X['AnimalType',col] = df_encoded[col]\n",
    "\n",
    "X = X.drop(['AnimalType'], axis=1)\n",
    "X.dtypes"
   ]
  },
  {
   "cell_type": "code",
   "execution_count": 6,
   "id": "50879d6d-a23a-4188-b34b-d5449da55cbc",
   "metadata": {
    "tags": []
   },
   "outputs": [
    {
     "data": {
      "text/plain": [
       "array([[0.9988647294655031, 0.04763666896212888, False, ..., False, True,\n",
       "        False],\n",
       "       [0.9955997501374558, 0.0937077239411758, False, ..., False, False,\n",
       "        False],\n",
       "       [0.9969729329127248, 0.07774941182671039, False, ..., False,\n",
       "        False, False],\n",
       "       ...,\n",
       "       [0.998369129364278, 0.057088365998804694, False, ..., False,\n",
       "        False, True],\n",
       "       [0.9994320773914238, 0.03369751743174582, False, ..., False, True,\n",
       "        False],\n",
       "       [0.9947449602428345, 0.10238390533419689, False, ..., False,\n",
       "        False, False]], dtype=object)"
      ]
     },
     "execution_count": 6,
     "metadata": {},
     "output_type": "execute_result"
    }
   ],
   "source": [
    "# Converting the dataset into matrix\n",
    "X = X.to_numpy()\n",
    "X"
   ]
  },
  {
   "cell_type": "code",
   "execution_count": 7,
   "id": "78634091-fec8-4979-b5fc-b008c61091ca",
   "metadata": {
    "tags": []
   },
   "outputs": [
    {
     "data": {
      "text/plain": [
       "array([0, 4, 6, ..., 8, 7, 2], dtype=int64)"
      ]
     },
     "execution_count": 7,
     "metadata": {},
     "output_type": "execute_result"
    }
   ],
   "source": [
    "y = carcass_df['Group'].to_numpy()\n",
    "y"
   ]
  },
  {
   "cell_type": "code",
   "execution_count": 8,
   "id": "2c545c54-f802-4da2-b75e-2b6141bbcf45",
   "metadata": {
    "tags": []
   },
   "outputs": [],
   "source": [
    "X_train, X_test, y_train, y_test = train_test_split( X, y, test_size = 0.2)"
   ]
  },
  {
   "cell_type": "markdown",
   "id": "d4bcd70c-f8af-4af5-b064-05dc1e787290",
   "metadata": {},
   "source": [
    "Using rules of thumb for determining the number of neurons for the hidden layer: \n",
    "\n",
    "Somewhere in between the size of the input layer and the output layer\n",
    "- Using this the conclusion would be between 11-36,\n",
    "\n",
    "The mean of neurons in the input and output layer.\n",
    "- The mean is 11+36/2 = 23.5  neurons \n",
    "\n",
    "Less than twice the size of the input layer.\n",
    "- Less than 72, meaning 1-71\n",
    "\n",
    "2/3 the size of the input layer, plus the size of the output layer.\n",
    "- Approximately 35\n",
    "\n",
    "Using these rules of thumb the optimal number of neurons to use in the hidden layer would be between 1 and 71, but most likely somewhere between 20-71. The exact number is then determined through a gridsearch"
   ]
  },
  {
   "cell_type": "code",
   "execution_count": 9,
   "id": "a2258a6d-1a5d-48ac-a982-1745106f088f",
   "metadata": {
    "tags": []
   },
   "outputs": [
    {
     "name": "stdout",
     "output_type": "stream",
     "text": [
      "{'hidden_layer_sizes': [20, 21, 22, 23, 24, 25, 26, 27, 28, 29, 30, 31, 32, 33, 34, 35, 36, 37, 38, 39, 40, 41, 42, 43, 44, 45, 46, 47, 48, 49, 50, 51, 52, 53, 54, 55, 56, 57, 58, 59, 60, 61, 62, 63, 64, 65, 66, 67, 68, 69, 70]}\n"
     ]
    }
   ],
   "source": [
    "H_param = {\n",
    "    'hidden_layer_sizes': [*range(20, 71, 1)],\n",
    "}\n",
    "print(H_param)"
   ]
  },
  {
   "cell_type": "code",
   "execution_count": 10,
   "id": "694dafb4-0450-4331-bb7b-ea9dbb5e718f",
   "metadata": {},
   "outputs": [],
   "source": [
    "model = MLPClassifier(max_iter = 10000)"
   ]
  },
  {
   "cell_type": "code",
   "execution_count": 11,
   "id": "785a9b2c-3042-4987-85e5-9b10263c2f03",
   "metadata": {
    "tags": []
   },
   "outputs": [],
   "source": [
    "optimal_param = GridSearchCV(model, H_param)"
   ]
  },
  {
   "cell_type": "code",
   "execution_count": 12,
   "id": "61cb06b6-6a95-4882-b08e-d361ea2aa222",
   "metadata": {
    "tags": []
   },
   "outputs": [
    {
     "data": {
      "text/html": [
       "<style>#sk-container-id-1 {color: black;}#sk-container-id-1 pre{padding: 0;}#sk-container-id-1 div.sk-toggleable {background-color: white;}#sk-container-id-1 label.sk-toggleable__label {cursor: pointer;display: block;width: 100%;margin-bottom: 0;padding: 0.3em;box-sizing: border-box;text-align: center;}#sk-container-id-1 label.sk-toggleable__label-arrow:before {content: \"▸\";float: left;margin-right: 0.25em;color: #696969;}#sk-container-id-1 label.sk-toggleable__label-arrow:hover:before {color: black;}#sk-container-id-1 div.sk-estimator:hover label.sk-toggleable__label-arrow:before {color: black;}#sk-container-id-1 div.sk-toggleable__content {max-height: 0;max-width: 0;overflow: hidden;text-align: left;background-color: #f0f8ff;}#sk-container-id-1 div.sk-toggleable__content pre {margin: 0.2em;color: black;border-radius: 0.25em;background-color: #f0f8ff;}#sk-container-id-1 input.sk-toggleable__control:checked~div.sk-toggleable__content {max-height: 200px;max-width: 100%;overflow: auto;}#sk-container-id-1 input.sk-toggleable__control:checked~label.sk-toggleable__label-arrow:before {content: \"▾\";}#sk-container-id-1 div.sk-estimator input.sk-toggleable__control:checked~label.sk-toggleable__label {background-color: #d4ebff;}#sk-container-id-1 div.sk-label input.sk-toggleable__control:checked~label.sk-toggleable__label {background-color: #d4ebff;}#sk-container-id-1 input.sk-hidden--visually {border: 0;clip: rect(1px 1px 1px 1px);clip: rect(1px, 1px, 1px, 1px);height: 1px;margin: -1px;overflow: hidden;padding: 0;position: absolute;width: 1px;}#sk-container-id-1 div.sk-estimator {font-family: monospace;background-color: #f0f8ff;border: 1px dotted black;border-radius: 0.25em;box-sizing: border-box;margin-bottom: 0.5em;}#sk-container-id-1 div.sk-estimator:hover {background-color: #d4ebff;}#sk-container-id-1 div.sk-parallel-item::after {content: \"\";width: 100%;border-bottom: 1px solid gray;flex-grow: 1;}#sk-container-id-1 div.sk-label:hover label.sk-toggleable__label {background-color: #d4ebff;}#sk-container-id-1 div.sk-serial::before {content: \"\";position: absolute;border-left: 1px solid gray;box-sizing: border-box;top: 0;bottom: 0;left: 50%;z-index: 0;}#sk-container-id-1 div.sk-serial {display: flex;flex-direction: column;align-items: center;background-color: white;padding-right: 0.2em;padding-left: 0.2em;position: relative;}#sk-container-id-1 div.sk-item {position: relative;z-index: 1;}#sk-container-id-1 div.sk-parallel {display: flex;align-items: stretch;justify-content: center;background-color: white;position: relative;}#sk-container-id-1 div.sk-item::before, #sk-container-id-1 div.sk-parallel-item::before {content: \"\";position: absolute;border-left: 1px solid gray;box-sizing: border-box;top: 0;bottom: 0;left: 50%;z-index: -1;}#sk-container-id-1 div.sk-parallel-item {display: flex;flex-direction: column;z-index: 1;position: relative;background-color: white;}#sk-container-id-1 div.sk-parallel-item:first-child::after {align-self: flex-end;width: 50%;}#sk-container-id-1 div.sk-parallel-item:last-child::after {align-self: flex-start;width: 50%;}#sk-container-id-1 div.sk-parallel-item:only-child::after {width: 0;}#sk-container-id-1 div.sk-dashed-wrapped {border: 1px dashed gray;margin: 0 0.4em 0.5em 0.4em;box-sizing: border-box;padding-bottom: 0.4em;background-color: white;}#sk-container-id-1 div.sk-label label {font-family: monospace;font-weight: bold;display: inline-block;line-height: 1.2em;}#sk-container-id-1 div.sk-label-container {text-align: center;}#sk-container-id-1 div.sk-container {/* jupyter's `normalize.less` sets `[hidden] { display: none; }` but bootstrap.min.css set `[hidden] { display: none !important; }` so we also need the `!important` here to be able to override the default hidden behavior on the sphinx rendered scikit-learn.org. See: https://github.com/scikit-learn/scikit-learn/issues/21755 */display: inline-block !important;position: relative;}#sk-container-id-1 div.sk-text-repr-fallback {display: none;}</style><div id=\"sk-container-id-1\" class=\"sk-top-container\"><div class=\"sk-text-repr-fallback\"><pre>GridSearchCV(estimator=MLPClassifier(max_iter=10000),\n",
       "             param_grid={&#x27;hidden_layer_sizes&#x27;: [20, 21, 22, 23, 24, 25, 26, 27,\n",
       "                                                28, 29, 30, 31, 32, 33, 34, 35,\n",
       "                                                36, 37, 38, 39, 40, 41, 42, 43,\n",
       "                                                44, 45, 46, 47, 48, 49, ...]})</pre><b>In a Jupyter environment, please rerun this cell to show the HTML representation or trust the notebook. <br />On GitHub, the HTML representation is unable to render, please try loading this page with nbviewer.org.</b></div><div class=\"sk-container\" hidden><div class=\"sk-item sk-dashed-wrapped\"><div class=\"sk-label-container\"><div class=\"sk-label sk-toggleable\"><input class=\"sk-toggleable__control sk-hidden--visually\" id=\"sk-estimator-id-1\" type=\"checkbox\" ><label for=\"sk-estimator-id-1\" class=\"sk-toggleable__label sk-toggleable__label-arrow\">GridSearchCV</label><div class=\"sk-toggleable__content\"><pre>GridSearchCV(estimator=MLPClassifier(max_iter=10000),\n",
       "             param_grid={&#x27;hidden_layer_sizes&#x27;: [20, 21, 22, 23, 24, 25, 26, 27,\n",
       "                                                28, 29, 30, 31, 32, 33, 34, 35,\n",
       "                                                36, 37, 38, 39, 40, 41, 42, 43,\n",
       "                                                44, 45, 46, 47, 48, 49, ...]})</pre></div></div></div><div class=\"sk-parallel\"><div class=\"sk-parallel-item\"><div class=\"sk-item\"><div class=\"sk-label-container\"><div class=\"sk-label sk-toggleable\"><input class=\"sk-toggleable__control sk-hidden--visually\" id=\"sk-estimator-id-2\" type=\"checkbox\" ><label for=\"sk-estimator-id-2\" class=\"sk-toggleable__label sk-toggleable__label-arrow\">estimator: MLPClassifier</label><div class=\"sk-toggleable__content\"><pre>MLPClassifier(max_iter=10000)</pre></div></div></div><div class=\"sk-serial\"><div class=\"sk-item\"><div class=\"sk-estimator sk-toggleable\"><input class=\"sk-toggleable__control sk-hidden--visually\" id=\"sk-estimator-id-3\" type=\"checkbox\" ><label for=\"sk-estimator-id-3\" class=\"sk-toggleable__label sk-toggleable__label-arrow\">MLPClassifier</label><div class=\"sk-toggleable__content\"><pre>MLPClassifier(max_iter=10000)</pre></div></div></div></div></div></div></div></div></div></div>"
      ],
      "text/plain": [
       "GridSearchCV(estimator=MLPClassifier(max_iter=10000),\n",
       "             param_grid={'hidden_layer_sizes': [20, 21, 22, 23, 24, 25, 26, 27,\n",
       "                                                28, 29, 30, 31, 32, 33, 34, 35,\n",
       "                                                36, 37, 38, 39, 40, 41, 42, 43,\n",
       "                                                44, 45, 46, 47, 48, 49, ...]})"
      ]
     },
     "execution_count": 12,
     "metadata": {},
     "output_type": "execute_result"
    }
   ],
   "source": [
    "optimal_param.fit(X_train, y_train)"
   ]
  },
  {
   "cell_type": "code",
   "execution_count": 13,
   "id": "15806182-83ac-42c6-ab44-7f4c5fcc1cde",
   "metadata": {
    "tags": []
   },
   "outputs": [
    {
     "data": {
      "text/plain": [
       "{'hidden_layer_sizes': 65}"
      ]
     },
     "execution_count": 13,
     "metadata": {},
     "output_type": "execute_result"
    }
   ],
   "source": [
    "optimal_param.best_params_"
   ]
  },
  {
   "cell_type": "markdown",
   "id": "ae61fcc6-ac43-4dcf-b35a-fffba8113cb0",
   "metadata": {},
   "source": [
    "Using grid search we found that the optimum number of neurons with the standard parameters is 65.\n",
    "\n",
    "We then continued with grid-searches to determine which other parameters were suitable for the model (the parameters used were chosen from what the previous grid search said and what was suitable to test from the documentation, https://scikit-learn.org/stable/modules/generated/sklearn.neural_network.MLPClassifier.html):\n",
    "\n",
    "Why we are splitting up the grid search is because of bad computers, which tend to crash. Which lost us about a week of progress after crashing when running all parameters at once. "
   ]
  },
  {
   "cell_type": "code",
   "execution_count": 14,
   "id": "ea1e37a1-0a35-4b67-a918-9c754c7945bf",
   "metadata": {
    "tags": []
   },
   "outputs": [
    {
     "name": "stdout",
     "output_type": "stream",
     "text": [
      "{'hidden_layer_sizes': [60, 61, 62, 63, 64, 65, 66, 67, 68, 69], 'activation': ['logistic', 'tanh', 'relu'], 'solver': ['sgd', 'adam'], 'learning_rate': ['adaptive', 'constant', 'invscaling'], 'learning_rate_init': [0.1, 0.05, 0.01, 0.005, 0.001, 0.0005]}\n"
     ]
    }
   ],
   "source": [
    "H_param_2 = {\n",
    "    'hidden_layer_sizes': [*range(60, 70, 1)],\n",
    "    'activation': ['logistic', 'tanh', 'relu'],\n",
    "    'solver': ['sgd', 'adam'],\n",
    "    'learning_rate': ['adaptive', 'constant', 'invscaling'],\n",
    "    'learning_rate_init': [0.1, 0.05, 0.01, 0.005, 0.001, 0.0005]\n",
    "}\n",
    "print(H_param_2)"
   ]
  },
  {
   "cell_type": "code",
   "execution_count": 15,
   "id": "fd99ff73-9c85-4d14-950c-d40e2d365709",
   "metadata": {},
   "outputs": [],
   "source": [
    "model_2 = MLPClassifier(max_iter = 10000)"
   ]
  },
  {
   "cell_type": "code",
   "execution_count": 16,
   "id": "e973c937-5603-4d14-bac5-fecf981a1ec7",
   "metadata": {
    "tags": []
   },
   "outputs": [],
   "source": [
    "optimal_param_2 = GridSearchCV(model_2, H_param_2)"
   ]
  },
  {
   "cell_type": "code",
   "execution_count": 17,
   "id": "d91126a5-64fa-4757-86ea-e335d3ca06ff",
   "metadata": {
    "tags": []
   },
   "outputs": [
    {
     "data": {
      "text/html": [
       "<style>#sk-container-id-2 {color: black;}#sk-container-id-2 pre{padding: 0;}#sk-container-id-2 div.sk-toggleable {background-color: white;}#sk-container-id-2 label.sk-toggleable__label {cursor: pointer;display: block;width: 100%;margin-bottom: 0;padding: 0.3em;box-sizing: border-box;text-align: center;}#sk-container-id-2 label.sk-toggleable__label-arrow:before {content: \"▸\";float: left;margin-right: 0.25em;color: #696969;}#sk-container-id-2 label.sk-toggleable__label-arrow:hover:before {color: black;}#sk-container-id-2 div.sk-estimator:hover label.sk-toggleable__label-arrow:before {color: black;}#sk-container-id-2 div.sk-toggleable__content {max-height: 0;max-width: 0;overflow: hidden;text-align: left;background-color: #f0f8ff;}#sk-container-id-2 div.sk-toggleable__content pre {margin: 0.2em;color: black;border-radius: 0.25em;background-color: #f0f8ff;}#sk-container-id-2 input.sk-toggleable__control:checked~div.sk-toggleable__content {max-height: 200px;max-width: 100%;overflow: auto;}#sk-container-id-2 input.sk-toggleable__control:checked~label.sk-toggleable__label-arrow:before {content: \"▾\";}#sk-container-id-2 div.sk-estimator input.sk-toggleable__control:checked~label.sk-toggleable__label {background-color: #d4ebff;}#sk-container-id-2 div.sk-label input.sk-toggleable__control:checked~label.sk-toggleable__label {background-color: #d4ebff;}#sk-container-id-2 input.sk-hidden--visually {border: 0;clip: rect(1px 1px 1px 1px);clip: rect(1px, 1px, 1px, 1px);height: 1px;margin: -1px;overflow: hidden;padding: 0;position: absolute;width: 1px;}#sk-container-id-2 div.sk-estimator {font-family: monospace;background-color: #f0f8ff;border: 1px dotted black;border-radius: 0.25em;box-sizing: border-box;margin-bottom: 0.5em;}#sk-container-id-2 div.sk-estimator:hover {background-color: #d4ebff;}#sk-container-id-2 div.sk-parallel-item::after {content: \"\";width: 100%;border-bottom: 1px solid gray;flex-grow: 1;}#sk-container-id-2 div.sk-label:hover label.sk-toggleable__label {background-color: #d4ebff;}#sk-container-id-2 div.sk-serial::before {content: \"\";position: absolute;border-left: 1px solid gray;box-sizing: border-box;top: 0;bottom: 0;left: 50%;z-index: 0;}#sk-container-id-2 div.sk-serial {display: flex;flex-direction: column;align-items: center;background-color: white;padding-right: 0.2em;padding-left: 0.2em;position: relative;}#sk-container-id-2 div.sk-item {position: relative;z-index: 1;}#sk-container-id-2 div.sk-parallel {display: flex;align-items: stretch;justify-content: center;background-color: white;position: relative;}#sk-container-id-2 div.sk-item::before, #sk-container-id-2 div.sk-parallel-item::before {content: \"\";position: absolute;border-left: 1px solid gray;box-sizing: border-box;top: 0;bottom: 0;left: 50%;z-index: -1;}#sk-container-id-2 div.sk-parallel-item {display: flex;flex-direction: column;z-index: 1;position: relative;background-color: white;}#sk-container-id-2 div.sk-parallel-item:first-child::after {align-self: flex-end;width: 50%;}#sk-container-id-2 div.sk-parallel-item:last-child::after {align-self: flex-start;width: 50%;}#sk-container-id-2 div.sk-parallel-item:only-child::after {width: 0;}#sk-container-id-2 div.sk-dashed-wrapped {border: 1px dashed gray;margin: 0 0.4em 0.5em 0.4em;box-sizing: border-box;padding-bottom: 0.4em;background-color: white;}#sk-container-id-2 div.sk-label label {font-family: monospace;font-weight: bold;display: inline-block;line-height: 1.2em;}#sk-container-id-2 div.sk-label-container {text-align: center;}#sk-container-id-2 div.sk-container {/* jupyter's `normalize.less` sets `[hidden] { display: none; }` but bootstrap.min.css set `[hidden] { display: none !important; }` so we also need the `!important` here to be able to override the default hidden behavior on the sphinx rendered scikit-learn.org. See: https://github.com/scikit-learn/scikit-learn/issues/21755 */display: inline-block !important;position: relative;}#sk-container-id-2 div.sk-text-repr-fallback {display: none;}</style><div id=\"sk-container-id-2\" class=\"sk-top-container\"><div class=\"sk-text-repr-fallback\"><pre>GridSearchCV(estimator=MLPClassifier(max_iter=10000),\n",
       "             param_grid={&#x27;activation&#x27;: [&#x27;logistic&#x27;, &#x27;tanh&#x27;, &#x27;relu&#x27;],\n",
       "                         &#x27;hidden_layer_sizes&#x27;: [60, 61, 62, 63, 64, 65, 66, 67,\n",
       "                                                68, 69],\n",
       "                         &#x27;learning_rate&#x27;: [&#x27;adaptive&#x27;, &#x27;constant&#x27;,\n",
       "                                           &#x27;invscaling&#x27;],\n",
       "                         &#x27;learning_rate_init&#x27;: [0.1, 0.05, 0.01, 0.005, 0.001],\n",
       "                         &#x27;solver&#x27;: [&#x27;sgd&#x27;, &#x27;adam&#x27;]})</pre><b>In a Jupyter environment, please rerun this cell to show the HTML representation or trust the notebook. <br />On GitHub, the HTML representation is unable to render, please try loading this page with nbviewer.org.</b></div><div class=\"sk-container\" hidden><div class=\"sk-item sk-dashed-wrapped\"><div class=\"sk-label-container\"><div class=\"sk-label sk-toggleable\"><input class=\"sk-toggleable__control sk-hidden--visually\" id=\"sk-estimator-id-4\" type=\"checkbox\" ><label for=\"sk-estimator-id-4\" class=\"sk-toggleable__label sk-toggleable__label-arrow\">GridSearchCV</label><div class=\"sk-toggleable__content\"><pre>GridSearchCV(estimator=MLPClassifier(max_iter=10000),\n",
       "             param_grid={&#x27;activation&#x27;: [&#x27;logistic&#x27;, &#x27;tanh&#x27;, &#x27;relu&#x27;],\n",
       "                         &#x27;hidden_layer_sizes&#x27;: [60, 61, 62, 63, 64, 65, 66, 67,\n",
       "                                                68, 69],\n",
       "                         &#x27;learning_rate&#x27;: [&#x27;adaptive&#x27;, &#x27;constant&#x27;,\n",
       "                                           &#x27;invscaling&#x27;],\n",
       "                         &#x27;learning_rate_init&#x27;: [0.1, 0.05, 0.01, 0.005, 0.001],\n",
       "                         &#x27;solver&#x27;: [&#x27;sgd&#x27;, &#x27;adam&#x27;]})</pre></div></div></div><div class=\"sk-parallel\"><div class=\"sk-parallel-item\"><div class=\"sk-item\"><div class=\"sk-label-container\"><div class=\"sk-label sk-toggleable\"><input class=\"sk-toggleable__control sk-hidden--visually\" id=\"sk-estimator-id-5\" type=\"checkbox\" ><label for=\"sk-estimator-id-5\" class=\"sk-toggleable__label sk-toggleable__label-arrow\">estimator: MLPClassifier</label><div class=\"sk-toggleable__content\"><pre>MLPClassifier(max_iter=10000)</pre></div></div></div><div class=\"sk-serial\"><div class=\"sk-item\"><div class=\"sk-estimator sk-toggleable\"><input class=\"sk-toggleable__control sk-hidden--visually\" id=\"sk-estimator-id-6\" type=\"checkbox\" ><label for=\"sk-estimator-id-6\" class=\"sk-toggleable__label sk-toggleable__label-arrow\">MLPClassifier</label><div class=\"sk-toggleable__content\"><pre>MLPClassifier(max_iter=10000)</pre></div></div></div></div></div></div></div></div></div></div>"
      ],
      "text/plain": [
       "GridSearchCV(estimator=MLPClassifier(max_iter=10000),\n",
       "             param_grid={'activation': ['logistic', 'tanh', 'relu'],\n",
       "                         'hidden_layer_sizes': [60, 61, 62, 63, 64, 65, 66, 67,\n",
       "                                                68, 69],\n",
       "                         'learning_rate': ['adaptive', 'constant',\n",
       "                                           'invscaling'],\n",
       "                         'learning_rate_init': [0.1, 0.05, 0.01, 0.005, 0.001],\n",
       "                         'solver': ['sgd', 'adam']})"
      ]
     },
     "execution_count": 17,
     "metadata": {},
     "output_type": "execute_result"
    }
   ],
   "source": [
    "optimal_param_2.fit(X_train, y_train)"
   ]
  },
  {
   "cell_type": "code",
   "execution_count": 18,
   "id": "29242526-3504-4b29-97d3-cf44780e2415",
   "metadata": {
    "tags": []
   },
   "outputs": [
    {
     "data": {
      "text/plain": [
       "{'activation': 'tanh',\n",
       " 'hidden_layer_sizes': 69,\n",
       " 'learning_rate': 'constant',\n",
       " 'learning_rate_init': 0.001,\n",
       " 'solver': 'adam'}"
      ]
     },
     "execution_count": 18,
     "metadata": {},
     "output_type": "execute_result"
    }
   ],
   "source": [
    "optimal_param_2.best_params_"
   ]
  },
  {
   "cell_type": "code",
   "execution_count": 20,
   "id": "fdedc866-f042-4415-8b08-f584a19c5c74",
   "metadata": {
    "tags": []
   },
   "outputs": [
    {
     "name": "stdout",
     "output_type": "stream",
     "text": [
      "{'hidden_layer_sizes': [69, 70, 71, 72, 73, 74], 'activation': ['logistic', 'tanh', 'relu'], 'solver': ['sgd', 'adam'], 'learning_rate': ['adaptive', 'constant', 'invscaling'], 'learning_rate_init': [0.1, 0.05, 0.01, 0.005, 0.001, 0.0005]}\n"
     ]
    }
   ],
   "source": [
    "H_param_3 = {\n",
    "    'hidden_layer_sizes': [*range(69, 75, 1)],\n",
    "    'activation': ['logistic', 'tanh', 'relu'],\n",
    "    'solver': ['sgd', 'adam'],\n",
    "    'learning_rate': ['adaptive', 'constant', 'invscaling'],\n",
    "    'learning_rate_init': [0.1, 0.05, 0.01, 0.005, 0.001, 0.0005]\n",
    "}\n",
    "print(H_param_3)"
   ]
  },
  {
   "cell_type": "code",
   "execution_count": 21,
   "id": "fc245a69-e728-4376-8283-a0338cc47ec1",
   "metadata": {},
   "outputs": [],
   "source": [
    "model_3 = MLPClassifier(max_iter = 10000)"
   ]
  },
  {
   "cell_type": "code",
   "execution_count": 22,
   "id": "2dd76bc7-4b23-47c2-846f-1ccb26687048",
   "metadata": {
    "tags": []
   },
   "outputs": [],
   "source": [
    "optimal_param_3 = GridSearchCV(model_3, H_param_3)"
   ]
  },
  {
   "cell_type": "code",
   "execution_count": 23,
   "id": "9e773e1e-024b-4f86-9aa5-98a803f6226a",
   "metadata": {
    "tags": []
   },
   "outputs": [
    {
     "data": {
      "text/html": [
       "<style>#sk-container-id-3 {color: black;}#sk-container-id-3 pre{padding: 0;}#sk-container-id-3 div.sk-toggleable {background-color: white;}#sk-container-id-3 label.sk-toggleable__label {cursor: pointer;display: block;width: 100%;margin-bottom: 0;padding: 0.3em;box-sizing: border-box;text-align: center;}#sk-container-id-3 label.sk-toggleable__label-arrow:before {content: \"▸\";float: left;margin-right: 0.25em;color: #696969;}#sk-container-id-3 label.sk-toggleable__label-arrow:hover:before {color: black;}#sk-container-id-3 div.sk-estimator:hover label.sk-toggleable__label-arrow:before {color: black;}#sk-container-id-3 div.sk-toggleable__content {max-height: 0;max-width: 0;overflow: hidden;text-align: left;background-color: #f0f8ff;}#sk-container-id-3 div.sk-toggleable__content pre {margin: 0.2em;color: black;border-radius: 0.25em;background-color: #f0f8ff;}#sk-container-id-3 input.sk-toggleable__control:checked~div.sk-toggleable__content {max-height: 200px;max-width: 100%;overflow: auto;}#sk-container-id-3 input.sk-toggleable__control:checked~label.sk-toggleable__label-arrow:before {content: \"▾\";}#sk-container-id-3 div.sk-estimator input.sk-toggleable__control:checked~label.sk-toggleable__label {background-color: #d4ebff;}#sk-container-id-3 div.sk-label input.sk-toggleable__control:checked~label.sk-toggleable__label {background-color: #d4ebff;}#sk-container-id-3 input.sk-hidden--visually {border: 0;clip: rect(1px 1px 1px 1px);clip: rect(1px, 1px, 1px, 1px);height: 1px;margin: -1px;overflow: hidden;padding: 0;position: absolute;width: 1px;}#sk-container-id-3 div.sk-estimator {font-family: monospace;background-color: #f0f8ff;border: 1px dotted black;border-radius: 0.25em;box-sizing: border-box;margin-bottom: 0.5em;}#sk-container-id-3 div.sk-estimator:hover {background-color: #d4ebff;}#sk-container-id-3 div.sk-parallel-item::after {content: \"\";width: 100%;border-bottom: 1px solid gray;flex-grow: 1;}#sk-container-id-3 div.sk-label:hover label.sk-toggleable__label {background-color: #d4ebff;}#sk-container-id-3 div.sk-serial::before {content: \"\";position: absolute;border-left: 1px solid gray;box-sizing: border-box;top: 0;bottom: 0;left: 50%;z-index: 0;}#sk-container-id-3 div.sk-serial {display: flex;flex-direction: column;align-items: center;background-color: white;padding-right: 0.2em;padding-left: 0.2em;position: relative;}#sk-container-id-3 div.sk-item {position: relative;z-index: 1;}#sk-container-id-3 div.sk-parallel {display: flex;align-items: stretch;justify-content: center;background-color: white;position: relative;}#sk-container-id-3 div.sk-item::before, #sk-container-id-3 div.sk-parallel-item::before {content: \"\";position: absolute;border-left: 1px solid gray;box-sizing: border-box;top: 0;bottom: 0;left: 50%;z-index: -1;}#sk-container-id-3 div.sk-parallel-item {display: flex;flex-direction: column;z-index: 1;position: relative;background-color: white;}#sk-container-id-3 div.sk-parallel-item:first-child::after {align-self: flex-end;width: 50%;}#sk-container-id-3 div.sk-parallel-item:last-child::after {align-self: flex-start;width: 50%;}#sk-container-id-3 div.sk-parallel-item:only-child::after {width: 0;}#sk-container-id-3 div.sk-dashed-wrapped {border: 1px dashed gray;margin: 0 0.4em 0.5em 0.4em;box-sizing: border-box;padding-bottom: 0.4em;background-color: white;}#sk-container-id-3 div.sk-label label {font-family: monospace;font-weight: bold;display: inline-block;line-height: 1.2em;}#sk-container-id-3 div.sk-label-container {text-align: center;}#sk-container-id-3 div.sk-container {/* jupyter's `normalize.less` sets `[hidden] { display: none; }` but bootstrap.min.css set `[hidden] { display: none !important; }` so we also need the `!important` here to be able to override the default hidden behavior on the sphinx rendered scikit-learn.org. See: https://github.com/scikit-learn/scikit-learn/issues/21755 */display: inline-block !important;position: relative;}#sk-container-id-3 div.sk-text-repr-fallback {display: none;}</style><div id=\"sk-container-id-3\" class=\"sk-top-container\"><div class=\"sk-text-repr-fallback\"><pre>GridSearchCV(estimator=MLPClassifier(max_iter=10000),\n",
       "             param_grid={&#x27;activation&#x27;: [&#x27;logistic&#x27;, &#x27;tanh&#x27;, &#x27;relu&#x27;],\n",
       "                         &#x27;hidden_layer_sizes&#x27;: [69, 70, 71, 72, 73, 74],\n",
       "                         &#x27;learning_rate&#x27;: [&#x27;adaptive&#x27;, &#x27;constant&#x27;,\n",
       "                                           &#x27;invscaling&#x27;],\n",
       "                         &#x27;learning_rate_init&#x27;: [0.1, 0.05, 0.01, 0.005, 0.001],\n",
       "                         &#x27;solver&#x27;: [&#x27;sgd&#x27;, &#x27;adam&#x27;]})</pre><b>In a Jupyter environment, please rerun this cell to show the HTML representation or trust the notebook. <br />On GitHub, the HTML representation is unable to render, please try loading this page with nbviewer.org.</b></div><div class=\"sk-container\" hidden><div class=\"sk-item sk-dashed-wrapped\"><div class=\"sk-label-container\"><div class=\"sk-label sk-toggleable\"><input class=\"sk-toggleable__control sk-hidden--visually\" id=\"sk-estimator-id-7\" type=\"checkbox\" ><label for=\"sk-estimator-id-7\" class=\"sk-toggleable__label sk-toggleable__label-arrow\">GridSearchCV</label><div class=\"sk-toggleable__content\"><pre>GridSearchCV(estimator=MLPClassifier(max_iter=10000),\n",
       "             param_grid={&#x27;activation&#x27;: [&#x27;logistic&#x27;, &#x27;tanh&#x27;, &#x27;relu&#x27;],\n",
       "                         &#x27;hidden_layer_sizes&#x27;: [69, 70, 71, 72, 73, 74],\n",
       "                         &#x27;learning_rate&#x27;: [&#x27;adaptive&#x27;, &#x27;constant&#x27;,\n",
       "                                           &#x27;invscaling&#x27;],\n",
       "                         &#x27;learning_rate_init&#x27;: [0.1, 0.05, 0.01, 0.005, 0.001],\n",
       "                         &#x27;solver&#x27;: [&#x27;sgd&#x27;, &#x27;adam&#x27;]})</pre></div></div></div><div class=\"sk-parallel\"><div class=\"sk-parallel-item\"><div class=\"sk-item\"><div class=\"sk-label-container\"><div class=\"sk-label sk-toggleable\"><input class=\"sk-toggleable__control sk-hidden--visually\" id=\"sk-estimator-id-8\" type=\"checkbox\" ><label for=\"sk-estimator-id-8\" class=\"sk-toggleable__label sk-toggleable__label-arrow\">estimator: MLPClassifier</label><div class=\"sk-toggleable__content\"><pre>MLPClassifier(max_iter=10000)</pre></div></div></div><div class=\"sk-serial\"><div class=\"sk-item\"><div class=\"sk-estimator sk-toggleable\"><input class=\"sk-toggleable__control sk-hidden--visually\" id=\"sk-estimator-id-9\" type=\"checkbox\" ><label for=\"sk-estimator-id-9\" class=\"sk-toggleable__label sk-toggleable__label-arrow\">MLPClassifier</label><div class=\"sk-toggleable__content\"><pre>MLPClassifier(max_iter=10000)</pre></div></div></div></div></div></div></div></div></div></div>"
      ],
      "text/plain": [
       "GridSearchCV(estimator=MLPClassifier(max_iter=10000),\n",
       "             param_grid={'activation': ['logistic', 'tanh', 'relu'],\n",
       "                         'hidden_layer_sizes': [69, 70, 71, 72, 73, 74],\n",
       "                         'learning_rate': ['adaptive', 'constant',\n",
       "                                           'invscaling'],\n",
       "                         'learning_rate_init': [0.1, 0.05, 0.01, 0.005, 0.001],\n",
       "                         'solver': ['sgd', 'adam']})"
      ]
     },
     "execution_count": 23,
     "metadata": {},
     "output_type": "execute_result"
    }
   ],
   "source": [
    "optimal_param_3.fit(X_train, y_train)"
   ]
  },
  {
   "cell_type": "code",
   "execution_count": 24,
   "id": "ba699ecc-177a-441d-b559-a018d4f3f433",
   "metadata": {
    "tags": []
   },
   "outputs": [
    {
     "data": {
      "text/plain": [
       "{'activation': 'tanh',\n",
       " 'hidden_layer_sizes': 74,\n",
       " 'learning_rate': 'adaptive',\n",
       " 'learning_rate_init': 0.001,\n",
       " 'solver': 'adam'}"
      ]
     },
     "execution_count": 24,
     "metadata": {},
     "output_type": "execute_result"
    }
   ],
   "source": [
    "optimal_param_3.best_params_"
   ]
  },
  {
   "cell_type": "code",
   "execution_count": 26,
   "id": "8733d029-377f-4db9-a2dc-f874c711f15a",
   "metadata": {
    "tags": []
   },
   "outputs": [
    {
     "name": "stdout",
     "output_type": "stream",
     "text": [
      "{'hidden_layer_sizes': [74, 75, 76, 77, 78, 79, 80, 81, 82, 83, 84], 'activation': ['tanh'], 'solver': ['adam'], 'learning_rate': ['adaptive', 'constant'], 'learning_rate_init': [0.001, 0.0005]}\n"
     ]
    }
   ],
   "source": [
    "H_param_4 = {\n",
    "    'hidden_layer_sizes': [*range(74, 85, 1)],\n",
    "    'activation': ['tanh'],\n",
    "    'solver': ['adam'],\n",
    "    'learning_rate': ['adaptive', 'constant'],\n",
    "    'learning_rate_init': [0.001, 0.0005]\n",
    "}\n",
    "print(H_param_4)"
   ]
  },
  {
   "cell_type": "code",
   "execution_count": 27,
   "id": "9b848918-ed68-4d83-be87-e5d0f90c5a8c",
   "metadata": {},
   "outputs": [],
   "source": [
    "model_4 = MLPClassifier(max_iter = 10000)"
   ]
  },
  {
   "cell_type": "code",
   "execution_count": 28,
   "id": "d64e5f28-310d-46e7-97f2-1df526b5760f",
   "metadata": {
    "tags": []
   },
   "outputs": [],
   "source": [
    "optimal_param_4 = GridSearchCV(model_4, H_param_4)"
   ]
  },
  {
   "cell_type": "code",
   "execution_count": 29,
   "id": "596518af-6157-471e-b88e-d59eee50b3d5",
   "metadata": {
    "tags": []
   },
   "outputs": [
    {
     "data": {
      "text/html": [
       "<style>#sk-container-id-4 {color: black;}#sk-container-id-4 pre{padding: 0;}#sk-container-id-4 div.sk-toggleable {background-color: white;}#sk-container-id-4 label.sk-toggleable__label {cursor: pointer;display: block;width: 100%;margin-bottom: 0;padding: 0.3em;box-sizing: border-box;text-align: center;}#sk-container-id-4 label.sk-toggleable__label-arrow:before {content: \"▸\";float: left;margin-right: 0.25em;color: #696969;}#sk-container-id-4 label.sk-toggleable__label-arrow:hover:before {color: black;}#sk-container-id-4 div.sk-estimator:hover label.sk-toggleable__label-arrow:before {color: black;}#sk-container-id-4 div.sk-toggleable__content {max-height: 0;max-width: 0;overflow: hidden;text-align: left;background-color: #f0f8ff;}#sk-container-id-4 div.sk-toggleable__content pre {margin: 0.2em;color: black;border-radius: 0.25em;background-color: #f0f8ff;}#sk-container-id-4 input.sk-toggleable__control:checked~div.sk-toggleable__content {max-height: 200px;max-width: 100%;overflow: auto;}#sk-container-id-4 input.sk-toggleable__control:checked~label.sk-toggleable__label-arrow:before {content: \"▾\";}#sk-container-id-4 div.sk-estimator input.sk-toggleable__control:checked~label.sk-toggleable__label {background-color: #d4ebff;}#sk-container-id-4 div.sk-label input.sk-toggleable__control:checked~label.sk-toggleable__label {background-color: #d4ebff;}#sk-container-id-4 input.sk-hidden--visually {border: 0;clip: rect(1px 1px 1px 1px);clip: rect(1px, 1px, 1px, 1px);height: 1px;margin: -1px;overflow: hidden;padding: 0;position: absolute;width: 1px;}#sk-container-id-4 div.sk-estimator {font-family: monospace;background-color: #f0f8ff;border: 1px dotted black;border-radius: 0.25em;box-sizing: border-box;margin-bottom: 0.5em;}#sk-container-id-4 div.sk-estimator:hover {background-color: #d4ebff;}#sk-container-id-4 div.sk-parallel-item::after {content: \"\";width: 100%;border-bottom: 1px solid gray;flex-grow: 1;}#sk-container-id-4 div.sk-label:hover label.sk-toggleable__label {background-color: #d4ebff;}#sk-container-id-4 div.sk-serial::before {content: \"\";position: absolute;border-left: 1px solid gray;box-sizing: border-box;top: 0;bottom: 0;left: 50%;z-index: 0;}#sk-container-id-4 div.sk-serial {display: flex;flex-direction: column;align-items: center;background-color: white;padding-right: 0.2em;padding-left: 0.2em;position: relative;}#sk-container-id-4 div.sk-item {position: relative;z-index: 1;}#sk-container-id-4 div.sk-parallel {display: flex;align-items: stretch;justify-content: center;background-color: white;position: relative;}#sk-container-id-4 div.sk-item::before, #sk-container-id-4 div.sk-parallel-item::before {content: \"\";position: absolute;border-left: 1px solid gray;box-sizing: border-box;top: 0;bottom: 0;left: 50%;z-index: -1;}#sk-container-id-4 div.sk-parallel-item {display: flex;flex-direction: column;z-index: 1;position: relative;background-color: white;}#sk-container-id-4 div.sk-parallel-item:first-child::after {align-self: flex-end;width: 50%;}#sk-container-id-4 div.sk-parallel-item:last-child::after {align-self: flex-start;width: 50%;}#sk-container-id-4 div.sk-parallel-item:only-child::after {width: 0;}#sk-container-id-4 div.sk-dashed-wrapped {border: 1px dashed gray;margin: 0 0.4em 0.5em 0.4em;box-sizing: border-box;padding-bottom: 0.4em;background-color: white;}#sk-container-id-4 div.sk-label label {font-family: monospace;font-weight: bold;display: inline-block;line-height: 1.2em;}#sk-container-id-4 div.sk-label-container {text-align: center;}#sk-container-id-4 div.sk-container {/* jupyter's `normalize.less` sets `[hidden] { display: none; }` but bootstrap.min.css set `[hidden] { display: none !important; }` so we also need the `!important` here to be able to override the default hidden behavior on the sphinx rendered scikit-learn.org. See: https://github.com/scikit-learn/scikit-learn/issues/21755 */display: inline-block !important;position: relative;}#sk-container-id-4 div.sk-text-repr-fallback {display: none;}</style><div id=\"sk-container-id-4\" class=\"sk-top-container\"><div class=\"sk-text-repr-fallback\"><pre>GridSearchCV(estimator=MLPClassifier(max_iter=10000),\n",
       "             param_grid={&#x27;activation&#x27;: [&#x27;tanh&#x27;],\n",
       "                         &#x27;hidden_layer_sizes&#x27;: [74, 75, 76, 77, 78, 79, 80, 81,\n",
       "                                                82, 83, 84],\n",
       "                         &#x27;learning_rate&#x27;: [&#x27;adaptive&#x27;, &#x27;constant&#x27;],\n",
       "                         &#x27;learning_rate_init&#x27;: [0.001, 0.0005],\n",
       "                         &#x27;solver&#x27;: [&#x27;adam&#x27;]})</pre><b>In a Jupyter environment, please rerun this cell to show the HTML representation or trust the notebook. <br />On GitHub, the HTML representation is unable to render, please try loading this page with nbviewer.org.</b></div><div class=\"sk-container\" hidden><div class=\"sk-item sk-dashed-wrapped\"><div class=\"sk-label-container\"><div class=\"sk-label sk-toggleable\"><input class=\"sk-toggleable__control sk-hidden--visually\" id=\"sk-estimator-id-10\" type=\"checkbox\" ><label for=\"sk-estimator-id-10\" class=\"sk-toggleable__label sk-toggleable__label-arrow\">GridSearchCV</label><div class=\"sk-toggleable__content\"><pre>GridSearchCV(estimator=MLPClassifier(max_iter=10000),\n",
       "             param_grid={&#x27;activation&#x27;: [&#x27;tanh&#x27;],\n",
       "                         &#x27;hidden_layer_sizes&#x27;: [74, 75, 76, 77, 78, 79, 80, 81,\n",
       "                                                82, 83, 84],\n",
       "                         &#x27;learning_rate&#x27;: [&#x27;adaptive&#x27;, &#x27;constant&#x27;],\n",
       "                         &#x27;learning_rate_init&#x27;: [0.001, 0.0005],\n",
       "                         &#x27;solver&#x27;: [&#x27;adam&#x27;]})</pre></div></div></div><div class=\"sk-parallel\"><div class=\"sk-parallel-item\"><div class=\"sk-item\"><div class=\"sk-label-container\"><div class=\"sk-label sk-toggleable\"><input class=\"sk-toggleable__control sk-hidden--visually\" id=\"sk-estimator-id-11\" type=\"checkbox\" ><label for=\"sk-estimator-id-11\" class=\"sk-toggleable__label sk-toggleable__label-arrow\">estimator: MLPClassifier</label><div class=\"sk-toggleable__content\"><pre>MLPClassifier(max_iter=10000)</pre></div></div></div><div class=\"sk-serial\"><div class=\"sk-item\"><div class=\"sk-estimator sk-toggleable\"><input class=\"sk-toggleable__control sk-hidden--visually\" id=\"sk-estimator-id-12\" type=\"checkbox\" ><label for=\"sk-estimator-id-12\" class=\"sk-toggleable__label sk-toggleable__label-arrow\">MLPClassifier</label><div class=\"sk-toggleable__content\"><pre>MLPClassifier(max_iter=10000)</pre></div></div></div></div></div></div></div></div></div></div>"
      ],
      "text/plain": [
       "GridSearchCV(estimator=MLPClassifier(max_iter=10000),\n",
       "             param_grid={'activation': ['tanh'],\n",
       "                         'hidden_layer_sizes': [74, 75, 76, 77, 78, 79, 80, 81,\n",
       "                                                82, 83, 84],\n",
       "                         'learning_rate': ['adaptive', 'constant'],\n",
       "                         'learning_rate_init': [0.001, 0.0005],\n",
       "                         'solver': ['adam']})"
      ]
     },
     "execution_count": 29,
     "metadata": {},
     "output_type": "execute_result"
    }
   ],
   "source": [
    "optimal_param_4.fit(X_train, y_train)"
   ]
  },
  {
   "cell_type": "code",
   "execution_count": 30,
   "id": "0ed10a38-dfe6-4a4c-8baa-04c97e1354eb",
   "metadata": {
    "tags": []
   },
   "outputs": [
    {
     "data": {
      "text/plain": [
       "{'activation': 'tanh',\n",
       " 'hidden_layer_sizes': 82,\n",
       " 'learning_rate': 'adaptive',\n",
       " 'learning_rate_init': 0.001,\n",
       " 'solver': 'adam'}"
      ]
     },
     "execution_count": 30,
     "metadata": {},
     "output_type": "execute_result"
    }
   ],
   "source": [
    "optimal_param_4.best_params_"
   ]
  },
  {
   "cell_type": "code",
   "execution_count": 31,
   "id": "6f25d6de-e3af-4878-bcc7-22a190a6e5c5",
   "metadata": {
    "tags": []
   },
   "outputs": [
    {
     "name": "stdout",
     "output_type": "stream",
     "text": [
      "MLPClassifier(activation='tanh', hidden_layer_sizes=82,\n",
      "              learning_rate='adaptive', max_iter=10000)\n"
     ]
    }
   ],
   "source": [
    "model_optimal = MLPClassifier(hidden_layer_sizes = (82), \n",
    "                              activation = 'tanh',\n",
    "                              solver = 'adam', #defult\n",
    "                              learning_rate = 'adaptive', \n",
    "                              learning_rate_init = 0.001, #defult\n",
    "                              max_iter = 10000)\n",
    "print(model_optimal)"
   ]
  },
  {
   "cell_type": "code",
   "execution_count": 34,
   "id": "f7cfcd58-a88d-449e-b287-05a869f17bc3",
   "metadata": {
    "tags": []
   },
   "outputs": [
    {
     "name": "stdout",
     "output_type": "stream",
     "text": [
      "MLPClassifier(activation='tanh', hidden_layer_sizes=82,\n",
      "              learning_rate='adaptive', max_iter=10000)\n"
     ]
    },
    {
     "data": {
      "text/html": [
       "<div>\n",
       "<style scoped>\n",
       "    .dataframe tbody tr th:only-of-type {\n",
       "        vertical-align: middle;\n",
       "    }\n",
       "\n",
       "    .dataframe tbody tr th {\n",
       "        vertical-align: top;\n",
       "    }\n",
       "\n",
       "    .dataframe thead th {\n",
       "        text-align: right;\n",
       "    }\n",
       "</style>\n",
       "<table border=\"1\" class=\"dataframe\">\n",
       "  <thead>\n",
       "    <tr style=\"text-align: right;\">\n",
       "      <th></th>\n",
       "      <th>fit_time</th>\n",
       "      <th>score_time</th>\n",
       "      <th>test_accuracy</th>\n",
       "      <th>test_precision_macro</th>\n",
       "      <th>test_recall_macro</th>\n",
       "      <th>test_f1_macro</th>\n",
       "    </tr>\n",
       "  </thead>\n",
       "  <tbody>\n",
       "    <tr>\n",
       "      <th>0</th>\n",
       "      <td>134.146452</td>\n",
       "      <td>0.023036</td>\n",
       "      <td>0.960296</td>\n",
       "      <td>0.960881</td>\n",
       "      <td>0.960303</td>\n",
       "      <td>0.960247</td>\n",
       "    </tr>\n",
       "    <tr>\n",
       "      <th>1</th>\n",
       "      <td>108.681172</td>\n",
       "      <td>0.025089</td>\n",
       "      <td>0.967178</td>\n",
       "      <td>0.967584</td>\n",
       "      <td>0.967268</td>\n",
       "      <td>0.967295</td>\n",
       "    </tr>\n",
       "    <tr>\n",
       "      <th>2</th>\n",
       "      <td>102.967775</td>\n",
       "      <td>0.023547</td>\n",
       "      <td>0.955532</td>\n",
       "      <td>0.955685</td>\n",
       "      <td>0.955588</td>\n",
       "      <td>0.955527</td>\n",
       "    </tr>\n",
       "    <tr>\n",
       "      <th>3</th>\n",
       "      <td>97.560298</td>\n",
       "      <td>0.033123</td>\n",
       "      <td>0.966120</td>\n",
       "      <td>0.966867</td>\n",
       "      <td>0.966178</td>\n",
       "      <td>0.966233</td>\n",
       "    </tr>\n",
       "    <tr>\n",
       "      <th>4</th>\n",
       "      <td>116.490302</td>\n",
       "      <td>0.023549</td>\n",
       "      <td>0.957650</td>\n",
       "      <td>0.958030</td>\n",
       "      <td>0.957824</td>\n",
       "      <td>0.957681</td>\n",
       "    </tr>\n",
       "    <tr>\n",
       "      <th>5</th>\n",
       "      <td>127.546346</td>\n",
       "      <td>0.024059</td>\n",
       "      <td>0.952860</td>\n",
       "      <td>0.953272</td>\n",
       "      <td>0.952921</td>\n",
       "      <td>0.952851</td>\n",
       "    </tr>\n",
       "    <tr>\n",
       "      <th>6</th>\n",
       "      <td>112.035768</td>\n",
       "      <td>0.023006</td>\n",
       "      <td>0.957627</td>\n",
       "      <td>0.958077</td>\n",
       "      <td>0.957791</td>\n",
       "      <td>0.957695</td>\n",
       "    </tr>\n",
       "    <tr>\n",
       "      <th>7</th>\n",
       "      <td>99.553696</td>\n",
       "      <td>0.022006</td>\n",
       "      <td>0.954979</td>\n",
       "      <td>0.955628</td>\n",
       "      <td>0.954946</td>\n",
       "      <td>0.955011</td>\n",
       "    </tr>\n",
       "    <tr>\n",
       "      <th>8</th>\n",
       "      <td>105.733011</td>\n",
       "      <td>0.019998</td>\n",
       "      <td>0.959746</td>\n",
       "      <td>0.960305</td>\n",
       "      <td>0.959667</td>\n",
       "      <td>0.959766</td>\n",
       "    </tr>\n",
       "    <tr>\n",
       "      <th>9</th>\n",
       "      <td>66.755984</td>\n",
       "      <td>0.018003</td>\n",
       "      <td>0.957627</td>\n",
       "      <td>0.957893</td>\n",
       "      <td>0.957720</td>\n",
       "      <td>0.957630</td>\n",
       "    </tr>\n",
       "  </tbody>\n",
       "</table>\n",
       "</div>"
      ],
      "text/plain": [
       "     fit_time  score_time  test_accuracy  test_precision_macro  \\\n",
       "0  134.146452    0.023036       0.960296              0.960881   \n",
       "1  108.681172    0.025089       0.967178              0.967584   \n",
       "2  102.967775    0.023547       0.955532              0.955685   \n",
       "3   97.560298    0.033123       0.966120              0.966867   \n",
       "4  116.490302    0.023549       0.957650              0.958030   \n",
       "5  127.546346    0.024059       0.952860              0.953272   \n",
       "6  112.035768    0.023006       0.957627              0.958077   \n",
       "7   99.553696    0.022006       0.954979              0.955628   \n",
       "8  105.733011    0.019998       0.959746              0.960305   \n",
       "9   66.755984    0.018003       0.957627              0.957893   \n",
       "\n",
       "   test_recall_macro  test_f1_macro  \n",
       "0           0.960303       0.960247  \n",
       "1           0.967268       0.967295  \n",
       "2           0.955588       0.955527  \n",
       "3           0.966178       0.966233  \n",
       "4           0.957824       0.957681  \n",
       "5           0.952921       0.952851  \n",
       "6           0.957791       0.957695  \n",
       "7           0.954946       0.955011  \n",
       "8           0.959667       0.959766  \n",
       "9           0.957720       0.957630  "
      ]
     },
     "metadata": {},
     "output_type": "display_data"
    },
    {
     "data": {
      "text/html": [
       "<div>\n",
       "<style scoped>\n",
       "    .dataframe tbody tr th:only-of-type {\n",
       "        vertical-align: middle;\n",
       "    }\n",
       "\n",
       "    .dataframe tbody tr th {\n",
       "        vertical-align: top;\n",
       "    }\n",
       "\n",
       "    .dataframe thead th {\n",
       "        text-align: right;\n",
       "    }\n",
       "</style>\n",
       "<table border=\"1\" class=\"dataframe\">\n",
       "  <thead>\n",
       "    <tr style=\"text-align: right;\">\n",
       "      <th></th>\n",
       "      <th>fit_time</th>\n",
       "      <th>score_time</th>\n",
       "      <th>test_accuracy</th>\n",
       "      <th>test_precision_macro</th>\n",
       "      <th>test_recall_macro</th>\n",
       "      <th>test_f1_macro</th>\n",
       "    </tr>\n",
       "  </thead>\n",
       "  <tbody>\n",
       "    <tr>\n",
       "      <th>count</th>\n",
       "      <td>10.000000</td>\n",
       "      <td>10.000000</td>\n",
       "      <td>10.000000</td>\n",
       "      <td>10.000000</td>\n",
       "      <td>10.000000</td>\n",
       "      <td>10.000000</td>\n",
       "    </tr>\n",
       "    <tr>\n",
       "      <th>mean</th>\n",
       "      <td>107.147080</td>\n",
       "      <td>0.023542</td>\n",
       "      <td>0.958962</td>\n",
       "      <td>0.959422</td>\n",
       "      <td>0.959021</td>\n",
       "      <td>0.958994</td>\n",
       "    </tr>\n",
       "    <tr>\n",
       "      <th>std</th>\n",
       "      <td>18.436429</td>\n",
       "      <td>0.003952</td>\n",
       "      <td>0.004610</td>\n",
       "      <td>0.004681</td>\n",
       "      <td>0.004613</td>\n",
       "      <td>0.004647</td>\n",
       "    </tr>\n",
       "    <tr>\n",
       "      <th>min</th>\n",
       "      <td>66.755984</td>\n",
       "      <td>0.018003</td>\n",
       "      <td>0.952860</td>\n",
       "      <td>0.953272</td>\n",
       "      <td>0.952921</td>\n",
       "      <td>0.952851</td>\n",
       "    </tr>\n",
       "    <tr>\n",
       "      <th>25%</th>\n",
       "      <td>100.407216</td>\n",
       "      <td>0.022256</td>\n",
       "      <td>0.956056</td>\n",
       "      <td>0.956237</td>\n",
       "      <td>0.956121</td>\n",
       "      <td>0.956053</td>\n",
       "    </tr>\n",
       "    <tr>\n",
       "      <th>50%</th>\n",
       "      <td>107.207091</td>\n",
       "      <td>0.023292</td>\n",
       "      <td>0.957638</td>\n",
       "      <td>0.958054</td>\n",
       "      <td>0.957808</td>\n",
       "      <td>0.957688</td>\n",
       "    </tr>\n",
       "    <tr>\n",
       "      <th>75%</th>\n",
       "      <td>115.376669</td>\n",
       "      <td>0.023932</td>\n",
       "      <td>0.960159</td>\n",
       "      <td>0.960737</td>\n",
       "      <td>0.960144</td>\n",
       "      <td>0.960127</td>\n",
       "    </tr>\n",
       "    <tr>\n",
       "      <th>max</th>\n",
       "      <td>134.146452</td>\n",
       "      <td>0.033123</td>\n",
       "      <td>0.967178</td>\n",
       "      <td>0.967584</td>\n",
       "      <td>0.967268</td>\n",
       "      <td>0.967295</td>\n",
       "    </tr>\n",
       "  </tbody>\n",
       "</table>\n",
       "</div>"
      ],
      "text/plain": [
       "         fit_time  score_time  test_accuracy  test_precision_macro  \\\n",
       "count   10.000000   10.000000      10.000000             10.000000   \n",
       "mean   107.147080    0.023542       0.958962              0.959422   \n",
       "std     18.436429    0.003952       0.004610              0.004681   \n",
       "min     66.755984    0.018003       0.952860              0.953272   \n",
       "25%    100.407216    0.022256       0.956056              0.956237   \n",
       "50%    107.207091    0.023292       0.957638              0.958054   \n",
       "75%    115.376669    0.023932       0.960159              0.960737   \n",
       "max    134.146452    0.033123       0.967178              0.967584   \n",
       "\n",
       "       test_recall_macro  test_f1_macro  \n",
       "count          10.000000      10.000000  \n",
       "mean            0.959021       0.958994  \n",
       "std             0.004613       0.004647  \n",
       "min             0.952921       0.952851  \n",
       "25%             0.956121       0.956053  \n",
       "50%             0.957808       0.957688  \n",
       "75%             0.960144       0.960127  \n",
       "max             0.967268       0.967295  "
      ]
     },
     "execution_count": 34,
     "metadata": {},
     "output_type": "execute_result"
    }
   ],
   "source": [
    "scoring = ['accuracy', 'precision_macro', 'recall_macro', 'f1_macro']\n",
    "cross_score = cross_validate(model_optimal,\n",
    "                    X, y, \n",
    "                    scoring=scoring, \n",
    "                    cv=10)\n",
    "scores_df = pd.DataFrame.from_dict(cross_score)\n",
    "print(model_optimal)\n",
    "display(scores_df)\n",
    "scores_df.describe()"
   ]
  },
  {
   "cell_type": "code",
   "execution_count": 35,
   "id": "5b4e024b-9c15-4605-bc37-e978686a6cbb",
   "metadata": {
    "tags": []
   },
   "outputs": [
    {
     "name": "stdout",
     "output_type": "stream",
     "text": [
      "{'hidden_layer_sizes': [65], 'activation': ['logistic', 'tanh', 'relu'], 'solver': ['sgd', 'adam'], 'learning_rate': ['adaptive', 'constant', 'invscaling'], 'learning_rate_init': [0.1, 0.05, 0.01, 0.005, 0.001, 0.0005]}\n"
     ]
    }
   ],
   "source": [
    "H_param_5 = {\n",
    "    'hidden_layer_sizes': [(65)],\n",
    "    'activation': ['logistic', 'tanh', 'relu'],\n",
    "    'solver': ['sgd', 'adam'],\n",
    "    'learning_rate': ['adaptive', 'constant', 'invscaling'],\n",
    "    'learning_rate_init': [0.1, 0.05, 0.01, 0.005, 0.001, 0.0005]\n",
    "}\n",
    "print(H_param_5)"
   ]
  },
  {
   "cell_type": "code",
   "execution_count": 36,
   "id": "03c223c4-8905-4f51-96fb-f24538e9e681",
   "metadata": {},
   "outputs": [],
   "source": [
    "model_5 = MLPClassifier(max_iter = 10000)"
   ]
  },
  {
   "cell_type": "code",
   "execution_count": 37,
   "id": "c9cc5ed5-1b6d-442b-8e1d-22f9b06df3a3",
   "metadata": {
    "tags": []
   },
   "outputs": [],
   "source": [
    "optimal_param_5 = GridSearchCV(model_5, H_param_5)"
   ]
  },
  {
   "cell_type": "code",
   "execution_count": 38,
   "id": "7a59835f-1c6e-42be-99b6-4a9f3792c023",
   "metadata": {
    "tags": []
   },
   "outputs": [
    {
     "data": {
      "text/html": [
       "<style>#sk-container-id-5 {color: black;}#sk-container-id-5 pre{padding: 0;}#sk-container-id-5 div.sk-toggleable {background-color: white;}#sk-container-id-5 label.sk-toggleable__label {cursor: pointer;display: block;width: 100%;margin-bottom: 0;padding: 0.3em;box-sizing: border-box;text-align: center;}#sk-container-id-5 label.sk-toggleable__label-arrow:before {content: \"▸\";float: left;margin-right: 0.25em;color: #696969;}#sk-container-id-5 label.sk-toggleable__label-arrow:hover:before {color: black;}#sk-container-id-5 div.sk-estimator:hover label.sk-toggleable__label-arrow:before {color: black;}#sk-container-id-5 div.sk-toggleable__content {max-height: 0;max-width: 0;overflow: hidden;text-align: left;background-color: #f0f8ff;}#sk-container-id-5 div.sk-toggleable__content pre {margin: 0.2em;color: black;border-radius: 0.25em;background-color: #f0f8ff;}#sk-container-id-5 input.sk-toggleable__control:checked~div.sk-toggleable__content {max-height: 200px;max-width: 100%;overflow: auto;}#sk-container-id-5 input.sk-toggleable__control:checked~label.sk-toggleable__label-arrow:before {content: \"▾\";}#sk-container-id-5 div.sk-estimator input.sk-toggleable__control:checked~label.sk-toggleable__label {background-color: #d4ebff;}#sk-container-id-5 div.sk-label input.sk-toggleable__control:checked~label.sk-toggleable__label {background-color: #d4ebff;}#sk-container-id-5 input.sk-hidden--visually {border: 0;clip: rect(1px 1px 1px 1px);clip: rect(1px, 1px, 1px, 1px);height: 1px;margin: -1px;overflow: hidden;padding: 0;position: absolute;width: 1px;}#sk-container-id-5 div.sk-estimator {font-family: monospace;background-color: #f0f8ff;border: 1px dotted black;border-radius: 0.25em;box-sizing: border-box;margin-bottom: 0.5em;}#sk-container-id-5 div.sk-estimator:hover {background-color: #d4ebff;}#sk-container-id-5 div.sk-parallel-item::after {content: \"\";width: 100%;border-bottom: 1px solid gray;flex-grow: 1;}#sk-container-id-5 div.sk-label:hover label.sk-toggleable__label {background-color: #d4ebff;}#sk-container-id-5 div.sk-serial::before {content: \"\";position: absolute;border-left: 1px solid gray;box-sizing: border-box;top: 0;bottom: 0;left: 50%;z-index: 0;}#sk-container-id-5 div.sk-serial {display: flex;flex-direction: column;align-items: center;background-color: white;padding-right: 0.2em;padding-left: 0.2em;position: relative;}#sk-container-id-5 div.sk-item {position: relative;z-index: 1;}#sk-container-id-5 div.sk-parallel {display: flex;align-items: stretch;justify-content: center;background-color: white;position: relative;}#sk-container-id-5 div.sk-item::before, #sk-container-id-5 div.sk-parallel-item::before {content: \"\";position: absolute;border-left: 1px solid gray;box-sizing: border-box;top: 0;bottom: 0;left: 50%;z-index: -1;}#sk-container-id-5 div.sk-parallel-item {display: flex;flex-direction: column;z-index: 1;position: relative;background-color: white;}#sk-container-id-5 div.sk-parallel-item:first-child::after {align-self: flex-end;width: 50%;}#sk-container-id-5 div.sk-parallel-item:last-child::after {align-self: flex-start;width: 50%;}#sk-container-id-5 div.sk-parallel-item:only-child::after {width: 0;}#sk-container-id-5 div.sk-dashed-wrapped {border: 1px dashed gray;margin: 0 0.4em 0.5em 0.4em;box-sizing: border-box;padding-bottom: 0.4em;background-color: white;}#sk-container-id-5 div.sk-label label {font-family: monospace;font-weight: bold;display: inline-block;line-height: 1.2em;}#sk-container-id-5 div.sk-label-container {text-align: center;}#sk-container-id-5 div.sk-container {/* jupyter's `normalize.less` sets `[hidden] { display: none; }` but bootstrap.min.css set `[hidden] { display: none !important; }` so we also need the `!important` here to be able to override the default hidden behavior on the sphinx rendered scikit-learn.org. See: https://github.com/scikit-learn/scikit-learn/issues/21755 */display: inline-block !important;position: relative;}#sk-container-id-5 div.sk-text-repr-fallback {display: none;}</style><div id=\"sk-container-id-5\" class=\"sk-top-container\"><div class=\"sk-text-repr-fallback\"><pre>GridSearchCV(estimator=MLPClassifier(max_iter=10000),\n",
       "             param_grid={&#x27;activation&#x27;: [&#x27;logistic&#x27;, &#x27;tanh&#x27;, &#x27;relu&#x27;],\n",
       "                         &#x27;hidden_layer_sizes&#x27;: [65],\n",
       "                         &#x27;learning_rate&#x27;: [&#x27;adaptive&#x27;, &#x27;constant&#x27;,\n",
       "                                           &#x27;invscaling&#x27;],\n",
       "                         &#x27;learning_rate_init&#x27;: [0.1, 0.05, 0.01, 0.005, 0.001,\n",
       "                                                0.0005],\n",
       "                         &#x27;solver&#x27;: [&#x27;sgd&#x27;, &#x27;adam&#x27;]})</pre><b>In a Jupyter environment, please rerun this cell to show the HTML representation or trust the notebook. <br />On GitHub, the HTML representation is unable to render, please try loading this page with nbviewer.org.</b></div><div class=\"sk-container\" hidden><div class=\"sk-item sk-dashed-wrapped\"><div class=\"sk-label-container\"><div class=\"sk-label sk-toggleable\"><input class=\"sk-toggleable__control sk-hidden--visually\" id=\"sk-estimator-id-13\" type=\"checkbox\" ><label for=\"sk-estimator-id-13\" class=\"sk-toggleable__label sk-toggleable__label-arrow\">GridSearchCV</label><div class=\"sk-toggleable__content\"><pre>GridSearchCV(estimator=MLPClassifier(max_iter=10000),\n",
       "             param_grid={&#x27;activation&#x27;: [&#x27;logistic&#x27;, &#x27;tanh&#x27;, &#x27;relu&#x27;],\n",
       "                         &#x27;hidden_layer_sizes&#x27;: [65],\n",
       "                         &#x27;learning_rate&#x27;: [&#x27;adaptive&#x27;, &#x27;constant&#x27;,\n",
       "                                           &#x27;invscaling&#x27;],\n",
       "                         &#x27;learning_rate_init&#x27;: [0.1, 0.05, 0.01, 0.005, 0.001,\n",
       "                                                0.0005],\n",
       "                         &#x27;solver&#x27;: [&#x27;sgd&#x27;, &#x27;adam&#x27;]})</pre></div></div></div><div class=\"sk-parallel\"><div class=\"sk-parallel-item\"><div class=\"sk-item\"><div class=\"sk-label-container\"><div class=\"sk-label sk-toggleable\"><input class=\"sk-toggleable__control sk-hidden--visually\" id=\"sk-estimator-id-14\" type=\"checkbox\" ><label for=\"sk-estimator-id-14\" class=\"sk-toggleable__label sk-toggleable__label-arrow\">estimator: MLPClassifier</label><div class=\"sk-toggleable__content\"><pre>MLPClassifier(max_iter=10000)</pre></div></div></div><div class=\"sk-serial\"><div class=\"sk-item\"><div class=\"sk-estimator sk-toggleable\"><input class=\"sk-toggleable__control sk-hidden--visually\" id=\"sk-estimator-id-15\" type=\"checkbox\" ><label for=\"sk-estimator-id-15\" class=\"sk-toggleable__label sk-toggleable__label-arrow\">MLPClassifier</label><div class=\"sk-toggleable__content\"><pre>MLPClassifier(max_iter=10000)</pre></div></div></div></div></div></div></div></div></div></div>"
      ],
      "text/plain": [
       "GridSearchCV(estimator=MLPClassifier(max_iter=10000),\n",
       "             param_grid={'activation': ['logistic', 'tanh', 'relu'],\n",
       "                         'hidden_layer_sizes': [65],\n",
       "                         'learning_rate': ['adaptive', 'constant',\n",
       "                                           'invscaling'],\n",
       "                         'learning_rate_init': [0.1, 0.05, 0.01, 0.005, 0.001,\n",
       "                                                0.0005],\n",
       "                         'solver': ['sgd', 'adam']})"
      ]
     },
     "execution_count": 38,
     "metadata": {},
     "output_type": "execute_result"
    }
   ],
   "source": [
    "optimal_param_5.fit(X_train, y_train)"
   ]
  },
  {
   "cell_type": "code",
   "execution_count": 39,
   "id": "f3e5f420-5138-41e4-af9e-302948889c50",
   "metadata": {
    "tags": []
   },
   "outputs": [
    {
     "data": {
      "text/plain": [
       "{'activation': 'tanh',\n",
       " 'hidden_layer_sizes': 65,\n",
       " 'learning_rate': 'adaptive',\n",
       " 'learning_rate_init': 0.0005,\n",
       " 'solver': 'adam'}"
      ]
     },
     "execution_count": 39,
     "metadata": {},
     "output_type": "execute_result"
    }
   ],
   "source": [
    "optimal_param_5.best_params_"
   ]
  },
  {
   "cell_type": "code",
   "execution_count": 42,
   "id": "4db06867-60d2-4560-af1f-f6c41e49080f",
   "metadata": {
    "tags": []
   },
   "outputs": [],
   "source": [
    "model_optimal_5 = MLPClassifier(hidden_layer_sizes = (65), \n",
    "                              activation = 'tanh',\n",
    "                              solver = 'adam', #defult\n",
    "                              learning_rate = 'adaptive', \n",
    "                              learning_rate_init = 0.0005,\n",
    "                              max_iter = 10000)"
   ]
  },
  {
   "cell_type": "code",
   "execution_count": 43,
   "id": "d225245b-fe7d-427f-8b65-622169f593ec",
   "metadata": {
    "tags": []
   },
   "outputs": [
    {
     "name": "stdout",
     "output_type": "stream",
     "text": [
      "MLPClassifier(activation='tanh', hidden_layer_sizes=65,\n",
      "              learning_rate='adaptive', learning_rate_init=0.0005,\n",
      "              max_iter=10000)\n"
     ]
    },
    {
     "data": {
      "text/html": [
       "<div>\n",
       "<style scoped>\n",
       "    .dataframe tbody tr th:only-of-type {\n",
       "        vertical-align: middle;\n",
       "    }\n",
       "\n",
       "    .dataframe tbody tr th {\n",
       "        vertical-align: top;\n",
       "    }\n",
       "\n",
       "    .dataframe thead th {\n",
       "        text-align: right;\n",
       "    }\n",
       "</style>\n",
       "<table border=\"1\" class=\"dataframe\">\n",
       "  <thead>\n",
       "    <tr style=\"text-align: right;\">\n",
       "      <th></th>\n",
       "      <th>fit_time</th>\n",
       "      <th>score_time</th>\n",
       "      <th>test_accuracy</th>\n",
       "      <th>test_precision_macro</th>\n",
       "      <th>test_recall_macro</th>\n",
       "      <th>test_f1_macro</th>\n",
       "    </tr>\n",
       "  </thead>\n",
       "  <tbody>\n",
       "    <tr>\n",
       "      <th>0</th>\n",
       "      <td>116.352921</td>\n",
       "      <td>0.014043</td>\n",
       "      <td>0.955532</td>\n",
       "      <td>0.956033</td>\n",
       "      <td>0.955639</td>\n",
       "      <td>0.955517</td>\n",
       "    </tr>\n",
       "    <tr>\n",
       "      <th>1</th>\n",
       "      <td>109.860650</td>\n",
       "      <td>0.016001</td>\n",
       "      <td>0.959767</td>\n",
       "      <td>0.960275</td>\n",
       "      <td>0.959820</td>\n",
       "      <td>0.959802</td>\n",
       "    </tr>\n",
       "    <tr>\n",
       "      <th>2</th>\n",
       "      <td>131.765019</td>\n",
       "      <td>0.015015</td>\n",
       "      <td>0.961355</td>\n",
       "      <td>0.961758</td>\n",
       "      <td>0.961373</td>\n",
       "      <td>0.961482</td>\n",
       "    </tr>\n",
       "    <tr>\n",
       "      <th>3</th>\n",
       "      <td>112.271793</td>\n",
       "      <td>0.015000</td>\n",
       "      <td>0.962414</td>\n",
       "      <td>0.963189</td>\n",
       "      <td>0.962492</td>\n",
       "      <td>0.962628</td>\n",
       "    </tr>\n",
       "    <tr>\n",
       "      <th>4</th>\n",
       "      <td>115.831649</td>\n",
       "      <td>0.018000</td>\n",
       "      <td>0.956061</td>\n",
       "      <td>0.956488</td>\n",
       "      <td>0.956291</td>\n",
       "      <td>0.956160</td>\n",
       "    </tr>\n",
       "    <tr>\n",
       "      <th>5</th>\n",
       "      <td>107.879806</td>\n",
       "      <td>0.013005</td>\n",
       "      <td>0.949153</td>\n",
       "      <td>0.949705</td>\n",
       "      <td>0.949191</td>\n",
       "      <td>0.949315</td>\n",
       "    </tr>\n",
       "    <tr>\n",
       "      <th>6</th>\n",
       "      <td>113.029346</td>\n",
       "      <td>0.014006</td>\n",
       "      <td>0.956568</td>\n",
       "      <td>0.957057</td>\n",
       "      <td>0.956738</td>\n",
       "      <td>0.956635</td>\n",
       "    </tr>\n",
       "    <tr>\n",
       "      <th>7</th>\n",
       "      <td>134.645397</td>\n",
       "      <td>0.012633</td>\n",
       "      <td>0.959216</td>\n",
       "      <td>0.960176</td>\n",
       "      <td>0.959276</td>\n",
       "      <td>0.959330</td>\n",
       "    </tr>\n",
       "    <tr>\n",
       "      <th>8</th>\n",
       "      <td>99.739345</td>\n",
       "      <td>0.013042</td>\n",
       "      <td>0.954449</td>\n",
       "      <td>0.955081</td>\n",
       "      <td>0.954435</td>\n",
       "      <td>0.954494</td>\n",
       "    </tr>\n",
       "    <tr>\n",
       "      <th>9</th>\n",
       "      <td>112.341520</td>\n",
       "      <td>0.018030</td>\n",
       "      <td>0.962394</td>\n",
       "      <td>0.962878</td>\n",
       "      <td>0.962522</td>\n",
       "      <td>0.962505</td>\n",
       "    </tr>\n",
       "  </tbody>\n",
       "</table>\n",
       "</div>"
      ],
      "text/plain": [
       "     fit_time  score_time  test_accuracy  test_precision_macro  \\\n",
       "0  116.352921    0.014043       0.955532              0.956033   \n",
       "1  109.860650    0.016001       0.959767              0.960275   \n",
       "2  131.765019    0.015015       0.961355              0.961758   \n",
       "3  112.271793    0.015000       0.962414              0.963189   \n",
       "4  115.831649    0.018000       0.956061              0.956488   \n",
       "5  107.879806    0.013005       0.949153              0.949705   \n",
       "6  113.029346    0.014006       0.956568              0.957057   \n",
       "7  134.645397    0.012633       0.959216              0.960176   \n",
       "8   99.739345    0.013042       0.954449              0.955081   \n",
       "9  112.341520    0.018030       0.962394              0.962878   \n",
       "\n",
       "   test_recall_macro  test_f1_macro  \n",
       "0           0.955639       0.955517  \n",
       "1           0.959820       0.959802  \n",
       "2           0.961373       0.961482  \n",
       "3           0.962492       0.962628  \n",
       "4           0.956291       0.956160  \n",
       "5           0.949191       0.949315  \n",
       "6           0.956738       0.956635  \n",
       "7           0.959276       0.959330  \n",
       "8           0.954435       0.954494  \n",
       "9           0.962522       0.962505  "
      ]
     },
     "metadata": {},
     "output_type": "display_data"
    },
    {
     "data": {
      "text/html": [
       "<div>\n",
       "<style scoped>\n",
       "    .dataframe tbody tr th:only-of-type {\n",
       "        vertical-align: middle;\n",
       "    }\n",
       "\n",
       "    .dataframe tbody tr th {\n",
       "        vertical-align: top;\n",
       "    }\n",
       "\n",
       "    .dataframe thead th {\n",
       "        text-align: right;\n",
       "    }\n",
       "</style>\n",
       "<table border=\"1\" class=\"dataframe\">\n",
       "  <thead>\n",
       "    <tr style=\"text-align: right;\">\n",
       "      <th></th>\n",
       "      <th>fit_time</th>\n",
       "      <th>score_time</th>\n",
       "      <th>test_accuracy</th>\n",
       "      <th>test_precision_macro</th>\n",
       "      <th>test_recall_macro</th>\n",
       "      <th>test_f1_macro</th>\n",
       "    </tr>\n",
       "  </thead>\n",
       "  <tbody>\n",
       "    <tr>\n",
       "      <th>count</th>\n",
       "      <td>10.000000</td>\n",
       "      <td>10.000000</td>\n",
       "      <td>10.000000</td>\n",
       "      <td>10.000000</td>\n",
       "      <td>10.000000</td>\n",
       "      <td>10.000000</td>\n",
       "    </tr>\n",
       "    <tr>\n",
       "      <th>mean</th>\n",
       "      <td>115.371745</td>\n",
       "      <td>0.014878</td>\n",
       "      <td>0.957691</td>\n",
       "      <td>0.958264</td>\n",
       "      <td>0.957778</td>\n",
       "      <td>0.957787</td>\n",
       "    </tr>\n",
       "    <tr>\n",
       "      <th>std</th>\n",
       "      <td>10.522670</td>\n",
       "      <td>0.001954</td>\n",
       "      <td>0.004170</td>\n",
       "      <td>0.004196</td>\n",
       "      <td>0.004175</td>\n",
       "      <td>0.004184</td>\n",
       "    </tr>\n",
       "    <tr>\n",
       "      <th>min</th>\n",
       "      <td>99.739345</td>\n",
       "      <td>0.012633</td>\n",
       "      <td>0.949153</td>\n",
       "      <td>0.949705</td>\n",
       "      <td>0.949191</td>\n",
       "      <td>0.949315</td>\n",
       "    </tr>\n",
       "    <tr>\n",
       "      <th>25%</th>\n",
       "      <td>110.463436</td>\n",
       "      <td>0.013283</td>\n",
       "      <td>0.955664</td>\n",
       "      <td>0.956147</td>\n",
       "      <td>0.955802</td>\n",
       "      <td>0.955678</td>\n",
       "    </tr>\n",
       "    <tr>\n",
       "      <th>50%</th>\n",
       "      <td>112.685433</td>\n",
       "      <td>0.014521</td>\n",
       "      <td>0.957892</td>\n",
       "      <td>0.958616</td>\n",
       "      <td>0.958007</td>\n",
       "      <td>0.957983</td>\n",
       "    </tr>\n",
       "    <tr>\n",
       "      <th>75%</th>\n",
       "      <td>116.222603</td>\n",
       "      <td>0.015754</td>\n",
       "      <td>0.960958</td>\n",
       "      <td>0.961387</td>\n",
       "      <td>0.960984</td>\n",
       "      <td>0.961062</td>\n",
       "    </tr>\n",
       "    <tr>\n",
       "      <th>max</th>\n",
       "      <td>134.645397</td>\n",
       "      <td>0.018030</td>\n",
       "      <td>0.962414</td>\n",
       "      <td>0.963189</td>\n",
       "      <td>0.962522</td>\n",
       "      <td>0.962628</td>\n",
       "    </tr>\n",
       "  </tbody>\n",
       "</table>\n",
       "</div>"
      ],
      "text/plain": [
       "         fit_time  score_time  test_accuracy  test_precision_macro  \\\n",
       "count   10.000000   10.000000      10.000000             10.000000   \n",
       "mean   115.371745    0.014878       0.957691              0.958264   \n",
       "std     10.522670    0.001954       0.004170              0.004196   \n",
       "min     99.739345    0.012633       0.949153              0.949705   \n",
       "25%    110.463436    0.013283       0.955664              0.956147   \n",
       "50%    112.685433    0.014521       0.957892              0.958616   \n",
       "75%    116.222603    0.015754       0.960958              0.961387   \n",
       "max    134.645397    0.018030       0.962414              0.963189   \n",
       "\n",
       "       test_recall_macro  test_f1_macro  \n",
       "count          10.000000      10.000000  \n",
       "mean            0.957778       0.957787  \n",
       "std             0.004175       0.004184  \n",
       "min             0.949191       0.949315  \n",
       "25%             0.955802       0.955678  \n",
       "50%             0.958007       0.957983  \n",
       "75%             0.960984       0.961062  \n",
       "max             0.962522       0.962628  "
      ]
     },
     "execution_count": 43,
     "metadata": {},
     "output_type": "execute_result"
    }
   ],
   "source": [
    "scoring = ['accuracy', 'precision_macro', 'recall_macro', 'f1_macro']\n",
    "cross_score_5 = cross_validate(model_optimal_5,\n",
    "                    X, y, \n",
    "                    scoring=scoring, \n",
    "                    cv=10)\n",
    "scores_df_5 = pd.DataFrame.from_dict(cross_score_5)\n",
    "print(model_optimal_5)\n",
    "display(scores_df_5)\n",
    "scores_df_5.describe()"
   ]
  },
  {
   "cell_type": "code",
   "execution_count": 53,
   "id": "e223a39a-e32d-4ab6-a48c-2ad19046a971",
   "metadata": {
    "tags": []
   },
   "outputs": [
    {
     "name": "stdout",
     "output_type": "stream",
     "text": [
      "Neurons 82:\n",
      "         fit_time  score_time  test_accuracy  test_precision_macro  \\\n",
      "count   10.000000   10.000000      10.000000             10.000000   \n",
      "mean   107.147080    0.023542       0.958962              0.959422   \n",
      "std     18.436429    0.003952       0.004610              0.004681   \n",
      "min     66.755984    0.018003       0.952860              0.953272   \n",
      "25%    100.407216    0.022256       0.956056              0.956237   \n",
      "50%    107.207091    0.023292       0.957638              0.958054   \n",
      "75%    115.376669    0.023932       0.960159              0.960737   \n",
      "max    134.146452    0.033123       0.967178              0.967584   \n",
      "\n",
      "       test_recall_macro  test_f1_macro  \n",
      "count          10.000000      10.000000  \n",
      "mean            0.959021       0.958994  \n",
      "std             0.004613       0.004647  \n",
      "min             0.952921       0.952851  \n",
      "25%             0.956121       0.956053  \n",
      "50%             0.957808       0.957688  \n",
      "75%             0.960144       0.960127  \n",
      "max             0.967268       0.967295  \n",
      "Neurons 65:\n",
      "         fit_time  score_time  test_accuracy  test_precision_macro  \\\n",
      "count   10.000000   10.000000      10.000000             10.000000   \n",
      "mean   115.371745    0.014878       0.957691              0.958264   \n",
      "std     10.522670    0.001954       0.004170              0.004196   \n",
      "min     99.739345    0.012633       0.949153              0.949705   \n",
      "25%    110.463436    0.013283       0.955664              0.956147   \n",
      "50%    112.685433    0.014521       0.957892              0.958616   \n",
      "75%    116.222603    0.015754       0.960958              0.961387   \n",
      "max    134.645397    0.018030       0.962414              0.963189   \n",
      "\n",
      "       test_recall_macro  test_f1_macro  \n",
      "count          10.000000      10.000000  \n",
      "mean            0.957778       0.957787  \n",
      "std             0.004175       0.004184  \n",
      "min             0.949191       0.949315  \n",
      "25%             0.955802       0.955678  \n",
      "50%             0.958007       0.957983  \n",
      "75%             0.960984       0.961062  \n",
      "max             0.962522       0.962628  \n"
     ]
    }
   ],
   "source": [
    "print('Neurons 82:')\n",
    "print(scores_df.describe())\n",
    "print('Neurons 65:')\n",
    "print(scores_df_5.describe())"
   ]
  },
  {
   "cell_type": "code",
   "execution_count": 56,
   "id": "3f055e41-b5d3-4b5d-92f9-757683277732",
   "metadata": {
    "tags": []
   },
   "outputs": [
    {
     "data": {
      "text/plain": [
       "0.0012710000000000221"
      ]
     },
     "execution_count": 56,
     "metadata": {},
     "output_type": "execute_result"
    }
   ],
   "source": [
    "0.958962 - 0.957691 # comparing test_accuracy"
   ]
  },
  {
   "cell_type": "markdown",
   "id": "9ebd3ddc-c62b-412f-b2a8-0f644783918c",
   "metadata": {},
   "source": [
    "Comparing the test_accuracy between using 65 or 82 neurons shows that 82 is 0.0013 units or 0.13% better. \n",
    "Which I don't see as worth it considering the risk of overfitting the models.\n",
    "This is also why I have chosen to go with these parameters for my final model:\n",
    "\n",
    "hidden_layer_sizes = (65), \n",
    "\n",
    "activation = 'tanh',\n",
    "\n",
    "solver = 'adam', #defult\n",
    "\n",
    "learning_rate = 'adaptive', \n",
    "\n",
    "learning_rate_init = 0.0005,\n",
    "\n",
    "max_iter = 10000"
   ]
  },
  {
   "cell_type": "code",
   "execution_count": null,
   "id": "b8bd9966-e28b-465d-a09b-d0d073262c03",
   "metadata": {},
   "outputs": [],
   "source": []
  }
 ],
 "metadata": {
  "kernelspec": {
   "display_name": "Python 3 (ipykernel)",
   "language": "python",
   "name": "python3"
  },
  "language_info": {
   "codemirror_mode": {
    "name": "ipython",
    "version": 3
   },
   "file_extension": ".py",
   "mimetype": "text/x-python",
   "name": "python",
   "nbconvert_exporter": "python",
   "pygments_lexer": "ipython3",
   "version": "3.11.5"
  }
 },
 "nbformat": 4,
 "nbformat_minor": 5
}
